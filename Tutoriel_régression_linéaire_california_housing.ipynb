{
 "cells": [
  {
   "cell_type": "markdown",
   "id": "e33326c6",
   "metadata": {},
   "source": [
    "# Tutoriel d'exemple de résolution d'un problème de machine learning à l'aide de la régression linéaire"
   ]
  },
  {
   "cell_type": "markdown",
   "id": "5230e13b",
   "metadata": {},
   "source": [
    "## Problème à résoudre"
   ]
  },
  {
   "cell_type": "markdown",
   "id": "694471e2",
   "metadata": {},
   "source": [
    "Notre travail va consister à créer un algorithme qui prédit le prix médian des maisons dans un quartier de Californie en fonction de données telles que les revenus médians des habitants du quartier, la population du quartier, le nombre médian de chambres et de pièces... Pour cela, nous utiliserons [ce set de données](https://inria.github.io/scikit-learn-mooc/python_scripts/datasets_california_housing.html)."
   ]
  },
  {
   "cell_type": "markdown",
   "id": "469f4cd1",
   "metadata": {},
   "source": [
    "## Techniques et outils utilisés"
   ]
  },
  {
   "cell_type": "markdown",
   "id": "87e73d31",
   "metadata": {},
   "source": [
    "Pour résoudre ce problème, nous allons faire appel à une technique **d'apprentissage supervisé** basée sur la **régression linéaire**. Voici une description de ces termes :\n",
    "- L'apprentissage supervisé est une technique qui consiste à entraîner un modèle de prédiction en lui donnant des sets de données. Dans notre cas, nous allons utiliser nos données pour apprendre à notre modèle à prédire le prix médian des maisons dans un quartier selon les caractéristiques de ce dernier.\n",
    "- La régression linéaire consiste à trouver une approximation de la fonction qui définit la relation entre différentes valeurs.\n",
    "\n",
    "Nous allons utiliser la librairie scikit-learn pour réaliser ce projet."
   ]
  },
  {
   "cell_type": "markdown",
   "id": "40405668",
   "metadata": {},
   "source": [
    "## Code"
   ]
  },
  {
   "cell_type": "markdown",
   "id": "5c90afee",
   "metadata": {},
   "source": [
    "### Importations des librairies"
   ]
  },
  {
   "cell_type": "code",
   "execution_count": 27,
   "id": "ad97e718",
   "metadata": {},
   "outputs": [],
   "source": [
    "import numpy as np\n",
    "import matplotlib.pyplot as plt\n",
    "from sklearn import datasets, linear_model\n",
    "from sklearn.metrics import mean_squared_error, r2_score\n",
    "from sklearn.datasets import fetch_california_housing\n",
    "from sklearn.model_selection import train_test_split"
   ]
  },
  {
   "cell_type": "markdown",
   "id": "7617db4b",
   "metadata": {},
   "source": [
    "### Importation du dataset"
   ]
  },
  {
   "cell_type": "markdown",
   "id": "cb4ff233",
   "metadata": {},
   "source": [
    "Commençons par importer et explorer nos données :"
   ]
  },
  {
   "cell_type": "code",
   "execution_count": 10,
   "id": "8f8a5209",
   "metadata": {},
   "outputs": [
    {
     "name": "stdout",
     "output_type": "stream",
     "text": [
      ".. _california_housing_dataset:\n",
      "\n",
      "California Housing dataset\n",
      "--------------------------\n",
      "\n",
      "**Data Set Characteristics:**\n",
      "\n",
      "    :Number of Instances: 20640\n",
      "\n",
      "    :Number of Attributes: 8 numeric, predictive attributes and the target\n",
      "\n",
      "    :Attribute Information:\n",
      "        - MedInc        median income in block group\n",
      "        - HouseAge      median house age in block group\n",
      "        - AveRooms      average number of rooms per household\n",
      "        - AveBedrms     average number of bedrooms per household\n",
      "        - Population    block group population\n",
      "        - AveOccup      average number of household members\n",
      "        - Latitude      block group latitude\n",
      "        - Longitude     block group longitude\n",
      "\n",
      "    :Missing Attribute Values: None\n",
      "\n",
      "This dataset was obtained from the StatLib repository.\n",
      "https://www.dcc.fc.up.pt/~ltorgo/Regression/cal_housing.html\n",
      "\n",
      "The target variable is the median house value for California districts,\n",
      "expressed in hundreds of thousands of dollars ($100,000).\n",
      "\n",
      "This dataset was derived from the 1990 U.S. census, using one row per census\n",
      "block group. A block group is the smallest geographical unit for which the U.S.\n",
      "Census Bureau publishes sample data (a block group typically has a population\n",
      "of 600 to 3,000 people).\n",
      "\n",
      "An household is a group of people residing within a home. Since the average\n",
      "number of rooms and bedrooms in this dataset are provided per household, these\n",
      "columns may take surpinsingly large values for block groups with few households\n",
      "and many empty houses, such as vacation resorts.\n",
      "\n",
      "It can be downloaded/loaded using the\n",
      ":func:`sklearn.datasets.fetch_california_housing` function.\n",
      "\n",
      ".. topic:: References\n",
      "\n",
      "    - Pace, R. Kelley and Ronald Barry, Sparse Spatial Autoregressions,\n",
      "      Statistics and Probability Letters, 33 (1997) 291-297\n",
      "\n"
     ]
    }
   ],
   "source": [
    "california_housing = fetch_california_housing(as_frame=True)\n",
    "print(california_housing.DESCR)"
   ]
  },
  {
   "cell_type": "markdown",
   "id": "5e035924",
   "metadata": {},
   "source": [
    "Comme cette description nous l'indique, ce dataset contient 20640 lignes, où chaque ligne correspond à un quartier. La valeur \"cible\", celle que nous cherchons à prédire, est la valeur médiane des maisons pour un quartier en centaines de milliers de dollars. Les 8 attributs numériques mentionnés sont les valeurs à partir desquelles on pourra réaliser des prédictions. Affichons les données pour voir plus clairement le format du dataset :"
   ]
  },
  {
   "cell_type": "code",
   "execution_count": 11,
   "id": "70e410c5",
   "metadata": {},
   "outputs": [
    {
     "name": "stdout",
     "output_type": "stream",
     "text": [
      "       MedInc  HouseAge  AveRooms  AveBedrms  Population  AveOccup  Latitude  \\\n",
      "0      8.3252      41.0  6.984127   1.023810       322.0  2.555556     37.88   \n",
      "1      8.3014      21.0  6.238137   0.971880      2401.0  2.109842     37.86   \n",
      "2      7.2574      52.0  8.288136   1.073446       496.0  2.802260     37.85   \n",
      "3      5.6431      52.0  5.817352   1.073059       558.0  2.547945     37.85   \n",
      "4      3.8462      52.0  6.281853   1.081081       565.0  2.181467     37.85   \n",
      "...       ...       ...       ...        ...         ...       ...       ...   \n",
      "20635  1.5603      25.0  5.045455   1.133333       845.0  2.560606     39.48   \n",
      "20636  2.5568      18.0  6.114035   1.315789       356.0  3.122807     39.49   \n",
      "20637  1.7000      17.0  5.205543   1.120092      1007.0  2.325635     39.43   \n",
      "20638  1.8672      18.0  5.329513   1.171920       741.0  2.123209     39.43   \n",
      "20639  2.3886      16.0  5.254717   1.162264      1387.0  2.616981     39.37   \n",
      "\n",
      "       Longitude  MedHouseVal  \n",
      "0        -122.23        4.526  \n",
      "1        -122.22        3.585  \n",
      "2        -122.24        3.521  \n",
      "3        -122.25        3.413  \n",
      "4        -122.25        3.422  \n",
      "...          ...          ...  \n",
      "20635    -121.09        0.781  \n",
      "20636    -121.21        0.771  \n",
      "20637    -121.22        0.923  \n",
      "20638    -121.32        0.847  \n",
      "20639    -121.24        0.894  \n",
      "\n",
      "[20640 rows x 9 columns]\n"
     ]
    }
   ],
   "source": [
    "print(california_housing.frame)"
   ]
  },
  {
   "cell_type": "markdown",
   "id": "aae90d83",
   "metadata": {},
   "source": [
    "### Phase d'apprentissage du modèle"
   ]
  },
  {
   "cell_type": "markdown",
   "id": "127bc2c2",
   "metadata": {},
   "source": [
    "La première étape lors de l'utilisation d'une méthode d'apprentissage supervisée, c'est l'apprentissage. Dans cette étape, nous allons construire notre modèle en lui donnant un certain nombre d'exemples depuis notre base de données. La règle de base lors de cette étape est de séparer la base de données en deux : une partie pour l'apprentissage et une partie pour le test. Ceci afin de ne pas montrer lors de la phase de test des exemples de chiffres qui auraient servis lors de la phase d'apprentissage, car alors le test serait biaisé."
   ]
  },
  {
   "cell_type": "code",
   "execution_count": 29,
   "id": "232459b7",
   "metadata": {},
   "outputs": [
    {
     "name": "stdout",
     "output_type": "stream",
     "text": [
      "        MedInc  HouseAge  AveRooms  AveBedrms  Population  AveOccup  Latitude  \\\n",
      "18935   7.2589      21.0  8.035714   1.107143       812.0  2.636364     38.23   \n",
      "2701    3.2396      33.0  5.460000   1.076000       825.0  3.300000     32.85   \n",
      "511    13.4990      42.0  8.928358   1.000000      1018.0  3.038806     37.82   \n",
      "16129   4.1339      52.0  4.567059   1.025882       955.0  2.247059     37.78   \n",
      "18565   2.4461      17.0  4.903704   1.090741      1193.0  2.209259     36.92   \n",
      "...        ...       ...       ...        ...         ...       ...       ...   \n",
      "938     4.1406       6.0  4.566510   1.051643      1911.0  2.990610     37.54   \n",
      "13880   3.1505       9.0  5.623120   1.054511      3515.0  3.303571     34.46   \n",
      "3444    2.6429      33.0  4.494565   1.043478       981.0  5.331522     34.25   \n",
      "5993    3.2566      36.0  4.926421   1.096990       785.0  2.625418     34.09   \n",
      "13607   2.1465      22.0  4.430486   1.103294      4523.0  2.525405     34.15   \n",
      "\n",
      "       Longitude  \n",
      "18935    -122.18  \n",
      "2701     -115.57  \n",
      "511      -122.22  \n",
      "16129    -122.47  \n",
      "18565    -121.74  \n",
      "...          ...  \n",
      "938      -122.03  \n",
      "13880    -117.34  \n",
      "3444     -118.41  \n",
      "5993     -117.72  \n",
      "13607    -117.25  \n",
      "\n",
      "[6192 rows x 8 columns] 18935    3.20400\n",
      "2701     0.62300\n",
      "511      5.00001\n",
      "16129    3.96400\n",
      "18565    1.51700\n",
      "          ...   \n",
      "938      1.78200\n",
      "13880    1.02000\n",
      "3444     1.43100\n",
      "5993     1.51800\n",
      "13607    0.88800\n",
      "Name: MedHouseVal, Length: 6192, dtype: float64\n"
     ]
    }
   ],
   "source": [
    "housing_df = california_housing.frame\n",
    "# Split data with 70% to train and 30% to test\n",
    "train, test = train_test_split(housing_df, test_size=0.3)\n",
    "x_train = train.drop(columns=[\"MedHouseVal\"])\n",
    "y_train = train[\"MedHouseVal\"]\n",
    "x_test = test.drop(columns=[\"MedHouseVal\"])\n",
    "y_test = test[\"MedHouseVal\"]"
   ]
  },
  {
   "cell_type": "markdown",
   "id": "dcf3c21a",
   "metadata": {},
   "source": [
    "Puis nous mettons en place notre modèle, l'entraînons et visualisons les résultats de l'entraînement :"
   ]
  },
  {
   "cell_type": "code",
   "execution_count": 31,
   "id": "ad0fbaad",
   "metadata": {},
   "outputs": [
    {
     "name": "stdout",
     "output_type": "stream",
     "text": [
      "Coefficients: \n",
      " [ 4.30379030e-01  9.87527398e-03 -9.61014273e-02  5.78267170e-01\n",
      " -3.69681847e-06 -3.84644166e-03 -4.19689737e-01 -4.34307398e-01]\n",
      "Mean squared error: 0.52\n",
      "Coefficient of determination: 0.61\n"
     ]
    }
   ],
   "source": [
    "# Create linear regression object\n",
    "regr = linear_model.LinearRegression()\n",
    "\n",
    "# Train the model using the training sets\n",
    "regr.fit(x_train, y_train)\n",
    "\n",
    "# Make predictions using the testing set\n",
    "y_pred = regr.predict(x_test)\n",
    "\n",
    "# The coefficients\n",
    "print(\"Coefficients: \\n\", regr.coef_)\n",
    "# The mean squared error\n",
    "print(\"Mean squared error: %.2f\" % mean_squared_error(y_test, y_pred))\n",
    "# The coefficient of determination: 1 is perfect prediction\n",
    "print(\"Coefficient of determination: %.2f\" % r2_score(y_test, y_pred))"
   ]
  },
  {
   "cell_type": "markdown",
   "id": "55393670",
   "metadata": {},
   "source": [
    "Ce script affiche plusieurs informations importantes :\n",
    "- Les coefficients : la régression linéaire consiste à trouver une fonction qui permet de prédire le prix médian des maisons à partir de 8 valeurs. Cette fonction est de la forme f(x) = a*f1 + b*f2 ... + h*f8 + i, où f1, f2, etc... sont les valeurs données en entrée et a, b, c etc.. sont les coefficients qui multiplient chaque valeur. Il s'agit des coefficients que l'on affiche ici.\n",
    "- La MSE (mean squared error) est un indicateur qui évalue la précision de notre modèle.\n",
    "- Le coefficient de détermination est un indicateur allant de 0 à 1 qui évalue la précision du modèle. Le coefficient de 65 % que l'on obtient veut dire que 65 % des variations observées dans le prix médian des maisons peuvent être expliquées par les 8 variables d'entrée."
   ]
  },
  {
   "cell_type": "markdown",
   "id": "c86a3b60",
   "metadata": {},
   "source": [
    "## Conclusion"
   ]
  },
  {
   "cell_type": "markdown",
   "id": "fc28e0ce",
   "metadata": {},
   "source": [
    "Ce tutoriel est maintenant terminé ! N'hésitez pas à tester la régression linéaire sur différents datasets. Vous pouvez aussi essayer les autres formes de régression proposées par scikit-learn."
   ]
  },
  {
   "cell_type": "code",
   "execution_count": null,
   "id": "9797edc2",
   "metadata": {},
   "outputs": [],
   "source": []
  }
 ],
 "metadata": {
  "kernelspec": {
   "display_name": "Python 3 (ipykernel)",
   "language": "python",
   "name": "python3"
  },
  "language_info": {
   "codemirror_mode": {
    "name": "ipython",
    "version": 3
   },
   "file_extension": ".py",
   "mimetype": "text/x-python",
   "name": "python",
   "nbconvert_exporter": "python",
   "pygments_lexer": "ipython3",
   "version": "3.10.6"
  }
 },
 "nbformat": 4,
 "nbformat_minor": 5
}
