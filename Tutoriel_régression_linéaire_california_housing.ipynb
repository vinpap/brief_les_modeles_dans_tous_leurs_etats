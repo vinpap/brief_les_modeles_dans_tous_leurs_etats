{
 "cells": [
  {
   "cell_type": "markdown",
   "id": "e33326c6",
   "metadata": {},
   "source": [
    "# Tutoriel d'exemple de résolution d'un problème de machine learning à l'aide de la régression linéaire"
   ]
  },
  {
   "cell_type": "markdown",
   "id": "5230e13b",
   "metadata": {},
   "source": [
    "## Problème à résoudre"
   ]
  },
  {
   "cell_type": "markdown",
   "id": "694471e2",
   "metadata": {},
   "source": [
    "Notre travail va consister à créer un algorithme qui prédit le prix médian des maisons dans un quartier de Californie en fonction de données telles que les revenus médians des habitants du quartier, la population du quartier, le nombre médian de chambres et de pièces... Pour cela, nous utiliserons [ce set de données](https://inria.github.io/scikit-learn-mooc/python_scripts/datasets_california_housing.html).\n",
    "\n",
    "![Maison américaine](https://www.guardianstorage.com/wp-content/uploads/2018/12/new-homeowner-checklist.jpg)\n",
    "\n"
   ]
  },
  {
   "cell_type": "markdown",
   "id": "469f4cd1",
   "metadata": {},
   "source": [
    "## Techniques et outils utilisés"
   ]
  },
  {
   "cell_type": "markdown",
   "id": "87e73d31",
   "metadata": {},
   "source": [
    "Pour résoudre ce problème, nous allons faire appel à une technique **d'apprentissage supervisé** basée sur la **régression linéaire**. Voici une description de ces termes :\n",
    "- L'apprentissage supervisé est une technique qui consiste à entraîner un modèle de prédiction en lui donnant un set de données. Dans notre cas, nous allons utiliser nos données pour apprendre à notre modèle à prédire le prix médian des maisons dans un quartier selon les caractéristiques de ce dernier.\n",
    "- La régression linéaire consiste à trouver une approximation de la fonction qui définit la relation entre différentes valeurs.\n",
    "\n",
    "Nous allons utiliser la librairie scikit-learn pour réaliser ce projet."
   ]
  },
  {
   "cell_type": "markdown",
   "id": "40405668",
   "metadata": {},
   "source": [
    "## Code"
   ]
  },
  {
   "cell_type": "markdown",
   "id": "5c90afee",
   "metadata": {},
   "source": [
    "### Importations des librairies"
   ]
  },
  {
   "cell_type": "code",
   "execution_count": 1,
   "id": "ad97e718",
   "metadata": {},
   "outputs": [],
   "source": [
    "import numpy as np\n",
    "import seaborn as sns\n",
    "from sklearn import datasets, linear_model\n",
    "from sklearn.metrics import mean_squared_error, r2_score\n",
    "from sklearn.datasets import fetch_california_housing\n",
    "from sklearn.model_selection import train_test_split"
   ]
  },
  {
   "cell_type": "markdown",
   "id": "7617db4b",
   "metadata": {},
   "source": [
    "### Importation du dataset"
   ]
  },
  {
   "cell_type": "markdown",
   "id": "cb4ff233",
   "metadata": {},
   "source": [
    "Commençons par importer et explorer nos données :"
   ]
  },
  {
   "cell_type": "code",
   "execution_count": 2,
   "id": "8f8a5209",
   "metadata": {
    "scrolled": true
   },
   "outputs": [
    {
     "name": "stdout",
     "output_type": "stream",
     "text": [
      ".. _california_housing_dataset:\n",
      "\n",
      "California Housing dataset\n",
      "--------------------------\n",
      "\n",
      "**Data Set Characteristics:**\n",
      "\n",
      "    :Number of Instances: 20640\n",
      "\n",
      "    :Number of Attributes: 8 numeric, predictive attributes and the target\n",
      "\n",
      "    :Attribute Information:\n",
      "        - MedInc        median income in block group\n",
      "        - HouseAge      median house age in block group\n",
      "        - AveRooms      average number of rooms per household\n",
      "        - AveBedrms     average number of bedrooms per household\n",
      "        - Population    block group population\n",
      "        - AveOccup      average number of household members\n",
      "        - Latitude      block group latitude\n",
      "        - Longitude     block group longitude\n",
      "\n",
      "    :Missing Attribute Values: None\n",
      "\n",
      "This dataset was obtained from the StatLib repository.\n",
      "https://www.dcc.fc.up.pt/~ltorgo/Regression/cal_housing.html\n",
      "\n",
      "The target variable is the median house value for California districts,\n",
      "expressed in hundreds of thousands of dollars ($100,000).\n",
      "\n",
      "This dataset was derived from the 1990 U.S. census, using one row per census\n",
      "block group. A block group is the smallest geographical unit for which the U.S.\n",
      "Census Bureau publishes sample data (a block group typically has a population\n",
      "of 600 to 3,000 people).\n",
      "\n",
      "An household is a group of people residing within a home. Since the average\n",
      "number of rooms and bedrooms in this dataset are provided per household, these\n",
      "columns may take surpinsingly large values for block groups with few households\n",
      "and many empty houses, such as vacation resorts.\n",
      "\n",
      "It can be downloaded/loaded using the\n",
      ":func:`sklearn.datasets.fetch_california_housing` function.\n",
      "\n",
      ".. topic:: References\n",
      "\n",
      "    - Pace, R. Kelley and Ronald Barry, Sparse Spatial Autoregressions,\n",
      "      Statistics and Probability Letters, 33 (1997) 291-297\n",
      "\n"
     ]
    }
   ],
   "source": [
    "california_housing = fetch_california_housing(as_frame=True)\n",
    "print(california_housing.DESCR)"
   ]
  },
  {
   "cell_type": "markdown",
   "id": "5e035924",
   "metadata": {},
   "source": [
    "Comme cette description nous l'indique, ce dataset contient 20640 lignes, où chaque ligne correspond à un quartier. La valeur \"cible\", celle que nous cherchons à prédire, est la valeur médiane des maisons pour un quartier en centaines de milliers de dollars. Les 8 attributs numériques mentionnés sont les valeurs à partir desquelles on pourra réaliser des prédictions. Affichons les données pour voir plus clairement le format du dataset :"
   ]
  },
  {
   "cell_type": "code",
   "execution_count": 3,
   "id": "70e410c5",
   "metadata": {},
   "outputs": [
    {
     "name": "stdout",
     "output_type": "stream",
     "text": [
      "       MedInc  HouseAge  AveRooms  AveBedrms  Population  AveOccup  Latitude  \\\n",
      "0      8.3252      41.0  6.984127   1.023810       322.0  2.555556     37.88   \n",
      "1      8.3014      21.0  6.238137   0.971880      2401.0  2.109842     37.86   \n",
      "2      7.2574      52.0  8.288136   1.073446       496.0  2.802260     37.85   \n",
      "3      5.6431      52.0  5.817352   1.073059       558.0  2.547945     37.85   \n",
      "4      3.8462      52.0  6.281853   1.081081       565.0  2.181467     37.85   \n",
      "...       ...       ...       ...        ...         ...       ...       ...   \n",
      "20635  1.5603      25.0  5.045455   1.133333       845.0  2.560606     39.48   \n",
      "20636  2.5568      18.0  6.114035   1.315789       356.0  3.122807     39.49   \n",
      "20637  1.7000      17.0  5.205543   1.120092      1007.0  2.325635     39.43   \n",
      "20638  1.8672      18.0  5.329513   1.171920       741.0  2.123209     39.43   \n",
      "20639  2.3886      16.0  5.254717   1.162264      1387.0  2.616981     39.37   \n",
      "\n",
      "       Longitude  MedHouseVal  \n",
      "0        -122.23        4.526  \n",
      "1        -122.22        3.585  \n",
      "2        -122.24        3.521  \n",
      "3        -122.25        3.413  \n",
      "4        -122.25        3.422  \n",
      "...          ...          ...  \n",
      "20635    -121.09        0.781  \n",
      "20636    -121.21        0.771  \n",
      "20637    -121.22        0.923  \n",
      "20638    -121.32        0.847  \n",
      "20639    -121.24        0.894  \n",
      "\n",
      "[20640 rows x 9 columns]\n"
     ]
    }
   ],
   "source": [
    "print(california_housing.frame)"
   ]
  },
  {
   "cell_type": "markdown",
   "id": "aae90d83",
   "metadata": {},
   "source": [
    "### Phase d'apprentissage du modèle"
   ]
  },
  {
   "cell_type": "markdown",
   "id": "127bc2c2",
   "metadata": {},
   "source": [
    "La première étape lors de l'utilisation d'une méthode d'apprentissage supervisée, c'est l'apprentissage. Dans cette étape, nous allons construire notre modèle en lui donnant un certain nombre d'exemples depuis notre base de données. La règle de base lors de cette étape est de séparer la base de données en deux : une partie pour l'apprentissage et une partie pour le test. Ceci afin de ne pas montrer lors de la phase de test des exemples de données qui auraient servis lors de la phase d'apprentissage, car alors le test serait biaisé."
   ]
  },
  {
   "cell_type": "code",
   "execution_count": 4,
   "id": "232459b7",
   "metadata": {},
   "outputs": [],
   "source": [
    "housing_df = california_housing.frame\n",
    "\n",
    "# Split data with 70% to train and 30% to test\n",
    "train, test = train_test_split(housing_df, test_size=0.3)\n",
    "x_train = train.drop(columns=[\"MedHouseVal\"])\n",
    "y_train = train[\"MedHouseVal\"]\n",
    "x_test = test.drop(columns=[\"MedHouseVal\"])\n",
    "y_test = test[\"MedHouseVal\"]"
   ]
  },
  {
   "cell_type": "markdown",
   "id": "dcf3c21a",
   "metadata": {},
   "source": [
    "Puis nous mettons en place notre modèle, l'entraînons et visualisons les résultats de l'entraînement :"
   ]
  },
  {
   "cell_type": "code",
   "execution_count": 5,
   "id": "ad0fbaad",
   "metadata": {},
   "outputs": [
    {
     "name": "stdout",
     "output_type": "stream",
     "text": [
      "Coefficients : \n",
      " [ 4.29343724e-01  9.12228369e-03 -9.83339204e-02  5.94504903e-01\n",
      " -2.40304028e-06 -4.30701462e-03 -4.30138923e-01 -4.43669369e-01]\n",
      "Mean squared error : 0.53\n",
      "Coefficient de détermination : 0.61\n"
     ]
    }
   ],
   "source": [
    "# Create linear regression object\n",
    "regr = linear_model.LinearRegression()\n",
    "\n",
    "# Train the model using the training sets\n",
    "regr.fit(x_train, y_train)\n",
    "\n",
    "# Make predictions using the testing set\n",
    "y_pred = regr.predict(x_test)\n",
    "\n",
    "# The coefficients\n",
    "print(\"Coefficients : \\n\", regr.coef_)\n",
    "# The mean squared error\n",
    "print(\"Mean squared error : %.2f\" % mean_squared_error(y_test, y_pred))\n",
    "# The coefficient of determination: 1 is perfect prediction\n",
    "print(\"Coefficient de détermination : %.2f\" % r2_score(y_test, y_pred))"
   ]
  },
  {
   "cell_type": "markdown",
   "id": "55393670",
   "metadata": {},
   "source": [
    "Ce script affiche plusieurs informations importantes :\n",
    "- Les coefficients : la régression linéaire consiste à trouver une fonction qui permet de prédire le prix médian des maisons à partir de 8 valeurs. Cette fonction est de la forme f(x) = a*f1 + b*f2 ... + h*f8 + i, où f1, f2, etc... sont les valeurs données en entrée et a, b, c etc.. sont les coefficients qui multiplient chaque valeur. Il s'agit des coefficients que l'on affiche ici.\n",
    "- La MSE (mean squared error) est un indicateur qui évalue la précision de notre modèle.\n",
    "- Le coefficient de détermination est un indicateur allant de 0 à 1 qui évalue la précision du modèle. Un coefficient de 65 %, par exemple, veut dire que 65 % des variations observées dans le prix médian des maisons peuvent être expliquées par les 8 variables d'entrée."
   ]
  },
  {
   "cell_type": "markdown",
   "id": "5a2b4f8e",
   "metadata": {},
   "source": [
    "### Test d'un modèle alternatif avec moins de features"
   ]
  },
  {
   "cell_type": "markdown",
   "id": "61dc82f0",
   "metadata": {},
   "source": [
    "Notez que nous avons utilisé toutes les données disponibles dans le modèle ci-dessus. En réalité, il est souvent judicieux de sélectionner les features que l'on souhaite utiliser. Une \"bonne\" feature respecte les critères suivants :\n",
    "- Elle n'est pas corrélée avec une autre feature (on parlera aussi de **variable indépendante**)\n",
    "- De préférence, elle est corrélée, positivement ou négativement, avec la variable que l'on souhaite prédire (aussi appelée **variable dépendante**).\n",
    "\n",
    "Dans un premier temps, afichons la matrice de corrélation qui montre les indices de corrélation entre toutes les variables :"
   ]
  },
  {
   "cell_type": "code",
   "execution_count": 6,
   "id": "62cb2c05",
   "metadata": {},
   "outputs": [
    {
     "data": {
      "text/plain": [
       "<AxesSubplot:>"
      ]
     },
     "execution_count": 6,
     "metadata": {},
     "output_type": "execute_result"
    },
    {
     "data": {
      "image/png": "[encoded data removed]",
      "text/plain": [
       "<Figure size 432x288 with 2 Axes>"
      ]
     },
     "metadata": {
      "needs_background": "light"
     },
     "output_type": "display_data"
    }
   ],
   "source": [
    "corr_matrix = housing_df.corr()\n",
    "sns.heatmap(corr_matrix, cmap=\"Blues\", annot=True)"
   ]
  },
  {
   "cell_type": "markdown",
   "id": "7829d2b8",
   "metadata": {},
   "source": [
    "Quelles informations pouvons-nous tirer de cette heatmap ?\n",
    "- Les revenus moyens (MedInc) semblent être fortement corrélés à notre variable dépéndante (MedHouseVal), et constituent donc une variable importante pour notre modèle\n",
    "- Le nombre moyen de chambres (AveBedrms) et le nombre moyens de pièces (AveRooms) sont fortement corrélés. Utiliser les deux à la fois risquerait d'affecter négativement la précision du modèle. La même situation apparaît pour les colonnes Latitude et Longitude.\n",
    "\n",
    "Au vu de ces éléments, essayons de créer un nouveau modèle en enlevant les colonnes Longitude et AveBedrms pour voir si la précision du modèle peut être améliorée."
   ]
  },
  {
   "cell_type": "code",
   "execution_count": 7,
   "id": "d79f4584",
   "metadata": {},
   "outputs": [
    {
     "name": "stdout",
     "output_type": "stream",
     "text": [
      "Coefficients : \n",
      " [ 4.44034446e-01  1.75254636e-02 -3.61228681e-02  2.07170437e-05\n",
      " -5.07444433e-03 -4.16027666e-02]\n",
      "Mean squared error : 0.65\n",
      "Coefficient de détermination : 0.52\n"
     ]
    }
   ],
   "source": [
    "housing_df_2 = housing_df.copy()\n",
    "\n",
    "# Split data with 70% to train and 30% to test\n",
    "train, test = train_test_split(housing_df_2, test_size=0.3)\n",
    "x_train = train.drop(columns=[\"MedHouseVal\", \"Longitude\", \"AveBedrms\"])\n",
    "y_train = train[\"MedHouseVal\"]\n",
    "x_test = test.drop(columns=[\"MedHouseVal\", \"Longitude\", \"AveBedrms\"])\n",
    "y_test = test[\"MedHouseVal\"]\n",
    "\n",
    "# Create linear regression object\n",
    "regr_2 = linear_model.LinearRegression()\n",
    "\n",
    "# Train the model using the training sets\n",
    "regr_2.fit(x_train, y_train)\n",
    "\n",
    "# Make predictions using the testing set\n",
    "y_pred = regr_2.predict(x_test)\n",
    "\n",
    "# The coefficients\n",
    "print(\"Coefficients : \\n\", regr_2.coef_)\n",
    "# The mean squared error\n",
    "print(\"Mean squared error : %.2f\" % mean_squared_error(y_test, y_pred))\n",
    "# The coefficient of determination: 1 is perfect prediction\n",
    "print(\"Coefficient de détermination : %.2f\" % r2_score(y_test, y_pred))"
   ]
  },
  {
   "cell_type": "markdown",
   "id": "ca14dd92",
   "metadata": {},
   "source": [
    "On constate qu'enlever deux colonnes a eu un impact négatif sur la précision. Dans cette situation, enlever des colonnes n'est donc pas pertinent."
   ]
  },
  {
   "cell_type": "markdown",
   "id": "b0e8b7bd",
   "metadata": {},
   "source": [
    "### Pour aller plus loin"
   ]
  },
  {
   "cell_type": "markdown",
   "id": "a333499d",
   "metadata": {},
   "source": [
    "Ce tutoriel vous a montré comment réaliser des modèles de régression linéaire. D'autres méthodes de régression existent. À titre d'exemple, voici le même modèle réalisé avec la **Ridge Regression**, ou régularisation de Tikhonov, également disponible dans scikit-learn :"
   ]
  },
  {
   "cell_type": "code",
   "execution_count": 11,
   "id": "644b694c",
   "metadata": {},
   "outputs": [
    {
     "name": "stdout",
     "output_type": "stream",
     "text": [
      "Coefficients : \n",
      " [ 4.48679537e-01  9.54695940e-03 -1.29149089e-01  6.78445929e-01\n",
      " -2.86100907e-06 -4.60409085e-03 -4.09152738e-01 -4.24700757e-01]\n",
      "Mean squared error : 0.53\n",
      "Coefficient de détermination : 0.61\n"
     ]
    }
   ],
   "source": [
    "x_train = train.drop(columns=[\"MedHouseVal\"])\n",
    "y_train = train[\"MedHouseVal\"]\n",
    "x_test = test.drop(columns=[\"MedHouseVal\"])\n",
    "y_test = test[\"MedHouseVal\"]\n",
    "\n",
    "regr_ridge = linear_model.Ridge(alpha=1.0)\n",
    "\n",
    "regr_ridge.fit(x_train, y_train)\n",
    "y_pred = regr_ridge.predict(x_test)\n",
    "\n",
    "# The coefficients\n",
    "print(\"Coefficients : \\n\", regr_ridge.coef_)\n",
    "# The mean squared error\n",
    "print(\"Mean squared error : %.2f\" % mean_squared_error(y_test, y_pred))\n",
    "# The coefficient of determination: 1 is perfect prediction\n",
    "print(\"Coefficient de détermination : %.2f\" % r2_score(y_test, y_pred))"
   ]
  },
  {
   "cell_type": "markdown",
   "id": "bb310788",
   "metadata": {},
   "source": [
    "On notera que la régression de Ridge est une régression linéaire \"améliorée\" particulièrement adaptée aux cas où des variables indépendantes sont corrélées entre elles."
   ]
  },
  {
   "cell_type": "markdown",
   "id": "5bdd3e9e",
   "metadata": {},
   "source": [
    "Enfin, voici un exemple de régression dite de **lasso** :"
   ]
  },
  {
   "cell_type": "code",
   "execution_count": 12,
   "id": "1f26e52c",
   "metadata": {},
   "outputs": [
    {
     "name": "stdout",
     "output_type": "stream",
     "text": [
      "Coefficients : \n",
      " [ 3.90099318e-01  1.53892213e-02 -0.00000000e+00  0.00000000e+00\n",
      "  2.14662903e-05 -3.79087432e-03 -1.16228563e-01 -1.02653757e-01]\n",
      "Mean squared error : 0.61\n",
      "Coefficient de détermination : 0.55\n"
     ]
    }
   ],
   "source": [
    "regr_lasso = linear_model.Lasso(alpha=0.1)\n",
    "\n",
    "regr_lasso.fit(x_train, y_train)\n",
    "y_pred = regr_lasso.predict(x_test)\n",
    "\n",
    "# The coefficients\n",
    "print(\"Coefficients : \\n\", regr_lasso.coef_)\n",
    "# The mean squared error\n",
    "print(\"Mean squared error : %.2f\" % mean_squared_error(y_test, y_pred))\n",
    "# The coefficient of determination: 1 is perfect prediction\n",
    "print(\"Coefficient de détermination : %.2f\" % r2_score(y_test, y_pred))"
   ]
  },
  {
   "cell_type": "markdown",
   "id": "c86a3b60",
   "metadata": {},
   "source": [
    "## Conclusion"
   ]
  },
  {
   "cell_type": "markdown",
   "id": "fc28e0ce",
   "metadata": {},
   "source": [
    "Ce tutoriel est maintenant terminé ! N'hésitez pas à tester la régression linéaire sur différents datasets. Vous pouvez aussi essayer les autres formes de régression proposées par scikit-learn."
   ]
  },
  {
   "cell_type": "code",
   "execution_count": null,
   "id": "9797edc2",
   "metadata": {},
   "outputs": [],
   "source": []
  }
 ],
 "metadata": {
  "kernelspec": {
   "display_name": "Python 3 (ipykernel)",
   "language": "python",
   "name": "python3"
  },
  "language_info": {
   "codemirror_mode": {
    "name": "ipython",
    "version": 3
   },
   "file_extension": ".py",
   "mimetype": "text/x-python",
   "name": "python",
   "nbconvert_exporter": "python",
   "pygments_lexer": "ipython3",
   "version": "3.10.6"
  }
 },
 "nbformat": 4,
 "nbformat_minor": 5
}
