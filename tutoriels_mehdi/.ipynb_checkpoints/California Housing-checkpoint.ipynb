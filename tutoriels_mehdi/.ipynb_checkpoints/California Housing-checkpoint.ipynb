{
 "cells": [
  {
   "cell_type": "markdown",
   "id": "13f1b5ce",
   "metadata": {},
   "source": [
    "# Tutoriel d'exemple de résolution d'un problème de machine learning"
   ]
  },
  {
   "cell_type": "markdown",
   "id": "e26a8a80",
   "metadata": {},
   "source": [
    "Ce notebook va vous guider à travers ce cas, et va utiliser un modèle particulier de machine learning pour réaliser cette tâche : la *régression linéaire* (ou *LinearRegression* en anglais). Les parties suivantes sont dédiées à l'implémentation de ce modèle grâce à l'utilisation de la librairie scikit-learn.\n",
    "\n",
    "<font color=\"green\">Avant de commencer à coder, il faudrait peut-être rédiger quelques lignes pour expliquer au lecteur les notions d'apprentissage supervisé et de régression linéaire (un peut comme l'a fait Valentin dans son notebook d'exemple. On part du principe que ce tutoriel s'adresse à des débutants !</font>"
   ]
  },
  {
   "cell_type": "markdown",
   "id": "c3dfc0a4",
   "metadata": {},
   "source": [
    "# Code"
   ]
  },
  {
   "cell_type": "markdown",
   "id": "4d505357",
   "metadata": {},
   "source": [
    "### Importation des librairies"
   ]
  },
  {
   "cell_type": "code",
   "execution_count": 1,
   "id": "9a8b8388",
   "metadata": {},
   "outputs": [],
   "source": [
    "import matplotlib.pyplot as plt\n",
    "import numpy as np\n",
    "from sklearn.datasets import fetch_california_housing\n",
    "\n",
    "from sklearn import datasets, linear_model\n",
    "from sklearn.metrics import mean_squared_error, r2_score"
   ]
  },
  {
   "cell_type": "markdown",
   "id": "f8b24095",
   "metadata": {},
   "source": [
    "### Importation du dataset"
   ]
  },
  {
   "cell_type": "code",
   "execution_count": 2,
   "id": "3230f7b9",
   "metadata": {},
   "outputs": [],
   "source": [
    "# Load the diabetes dataset\n",
    "diabetes_X, diabetes_y = datasets.fetch_california_housing(return_X_y=True)"
   ]
  },
  {
   "cell_type": "markdown",
   "id": "70050cfe",
   "metadata": {},
   "source": [
    "Division des données entre les données d'entrainement et de test\n",
    "\n",
    "<font color=\"green\">Ici il faudrait peut-être expliquer pourquoi on divise les données en deux : ce n'est pas forcément évident pour tout le monde.\n",
    "Sinon en ce qui concerne le code, il serait peut-être mieux de renommer tes valeurs diabetes_X et diabetes_y pour que leurs noms correspondent mieux au problème à résoudre. Là le lecteur a vraiment l'impression que tu as juste copié-collé du code de tutoriels.</font>"
   ]
  },
  {
   "cell_type": "code",
   "execution_count": 3,
   "id": "8757144c",
   "metadata": {},
   "outputs": [],
   "source": [
    "# Use only one feature\n",
    "diabetes_X = diabetes_X[:, np.newaxis, 2]\n",
    "\n",
    "# Split the data into training/testing sets\n",
    "diabetes_X_train = diabetes_X[:-20]\n",
    "diabetes_X_test = diabetes_X[-20:]\n",
    "\n",
    "# Split the targets into training/testing sets\n",
    "diabetes_y_train = diabetes_y[:-20]\n",
    "diabetes_y_test = diabetes_y[-20:]\n"
   ]
  },
  {
   "cell_type": "markdown",
   "id": "a875bf8d",
   "metadata": {},
   "source": [
    "<font color=\"green\">Attention, dans le code au-dessus tu ne mets que 20 lignes de données dans ton set de test, c'est un peu juste !</font>"
   ]
  },
  {
   "cell_type": "markdown",
   "id": "6e71cfdd",
   "metadata": {},
   "source": [
    "Création d'une regression linéaire, pour ensuite l'entrainer"
   ]
  },
  {
   "cell_type": "code",
   "execution_count": 4,
   "id": "94a0b6b1",
   "metadata": {},
   "outputs": [],
   "source": [
    "# Create linear regression object\n",
    "regr = linear_model.LinearRegression()\n",
    "\n",
    "# Train the model using the training sets\n",
    "regr.fit(diabetes_X_train, diabetes_y_train)\n",
    "\n",
    "# Make predictions using the testing set\n",
    "diabetes_y_pred = regr.predict(diabetes_X_test)"
   ]
  },
  {
   "cell_type": "markdown",
   "id": "4d90358c",
   "metadata": {},
   "source": [
    "Nous affichons le coefficients, moyenne d'erreur et le coefficient de determination pour analyser l'efficacité de notre méthode\n",
    "\n",
    "<font color=\"green\">Ici il faudrait peut-être dire à quoi correspondent ces nombres, sinon le lecteur ne saura pas comment les interpréter</font>"
   ]
  },
  {
   "cell_type": "code",
   "execution_count": 5,
   "id": "52ac79f3",
   "metadata": {},
   "outputs": [
    {
     "name": "stdout",
     "output_type": "stream",
     "text": [
      "Coefficients: \n",
      " [0.07093976]\n",
      "Mean squared error: 1.36\n",
      "Coefficient of determination: -27.94\n"
     ]
    }
   ],
   "source": [
    "# The coefficients\n",
    "print(\"Coefficients: \\n\", regr.coef_)\n",
    "# The mean squared error\n",
    "print(\"Mean squared error: %.2f\" % mean_squared_error(diabetes_y_test, diabetes_y_pred))\n",
    "# The coefficient of determination: 1 is perfect prediction\n",
    "print(\"Coefficient of determination: %.2f\" % r2_score(diabetes_y_test, diabetes_y_pred))"
   ]
  },
  {
   "cell_type": "markdown",
   "id": "6d2154f7",
   "metadata": {},
   "source": [
    "Affichage de notre régression linéaire\n",
    "\n",
    "<font color=\"green\">C'est-à-dire ? À quoi correspond chaque axe ?</font>"
   ]
  },
  {
   "cell_type": "code",
   "execution_count": 6,
   "id": "11a047aa",
   "metadata": {},
   "outputs": [
    {
     "data": {
      "image/png": "[encoded data removed]",
      "text/plain": [
       "<Figure size 432x288 with 1 Axes>"
      ]
     },
     "metadata": {},
     "output_type": "display_data"
    }
   ],
   "source": [
    "# Plot outputs\n",
    "plt.scatter(diabetes_X_test, diabetes_y_test, color=\"black\")\n",
    "plt.plot(diabetes_X_test, diabetes_y_pred, color=\"blue\", linewidth=3)\n",
    "\n",
    "plt.xticks(())\n",
    "plt.yticks(())\n",
    "\n",
    "plt.show()"
   ]
  },
  {
   "cell_type": "markdown",
   "id": "ed0e3ace",
   "metadata": {},
   "source": [
    "<font color=\"green\">Attention à ne pas oublier la légende des axes (et un titre, idéalement)</font>"
   ]
  },
  {
   "cell_type": "markdown",
   "id": "cb9c428f",
   "metadata": {},
   "source": [
    "# Régression linéaire Autre Exemple"
   ]
  },
  {
   "cell_type": "markdown",
   "id": "d10fcdfb",
   "metadata": {},
   "source": [
    "<font color=\"green\">En quoi consiste cet autre exemple ? Quelle est la différence avec l'exemple précédent ?</font>"
   ]
  },
  {
   "cell_type": "markdown",
   "id": "42f13968",
   "metadata": {},
   "source": [
    "### Importation des librairies"
   ]
  },
  {
   "cell_type": "code",
   "execution_count": 7,
   "id": "190c21e3",
   "metadata": {},
   "outputs": [],
   "source": [
    "import pandas as pd\n",
    "import numpy as np\n",
    "import warnings\n",
    "from sklearn.datasets import fetch_california_housing\n",
    "warnings.filterwarnings('ignore')"
   ]
  },
  {
   "cell_type": "markdown",
   "id": "2cb423b5",
   "metadata": {},
   "source": [
    "### Importation du dataset"
   ]
  },
  {
   "cell_type": "code",
   "execution_count": 8,
   "id": "809e534a",
   "metadata": {},
   "outputs": [],
   "source": [
    "california_housing = fetch_california_housing(as_frame=True)"
   ]
  },
  {
   "cell_type": "markdown",
   "id": "f3c721a3",
   "metadata": {},
   "source": [
    "Utilisation de DESCR pour avoir une description du dataset"
   ]
  },
  {
   "cell_type": "code",
   "execution_count": 9,
   "id": "9bc9a333",
   "metadata": {},
   "outputs": [
    {
     "name": "stdout",
     "output_type": "stream",
     "text": [
      ".. _california_housing_dataset:\n",
      "\n",
      "California Housing dataset\n",
      "--------------------------\n",
      "\n",
      "**Data Set Characteristics:**\n",
      "\n",
      "    :Number of Instances: 20640\n",
      "\n",
      "    :Number of Attributes: 8 numeric, predictive attributes and the target\n",
      "\n",
      "    :Attribute Information:\n",
      "        - MedInc        median income in block group\n",
      "        - HouseAge      median house age in block group\n",
      "        - AveRooms      average number of rooms per household\n",
      "        - AveBedrms     average number of bedrooms per household\n",
      "        - Population    block group population\n",
      "        - AveOccup      average number of household members\n",
      "        - Latitude      block group latitude\n",
      "        - Longitude     block group longitude\n",
      "\n",
      "    :Missing Attribute Values: None\n",
      "\n",
      "This dataset was obtained from the StatLib repository.\n",
      "https://www.dcc.fc.up.pt/~ltorgo/Regression/cal_housing.html\n",
      "\n",
      "The target variable is the median house value for California districts,\n",
      "expressed in hundreds of thousands of dollars ($100,000).\n",
      "\n",
      "This dataset was derived from the 1990 U.S. census, using one row per census\n",
      "block group. A block group is the smallest geographical unit for which the U.S.\n",
      "Census Bureau publishes sample data (a block group typically has a population\n",
      "of 600 to 3,000 people).\n",
      "\n",
      "An household is a group of people residing within a home. Since the average\n",
      "number of rooms and bedrooms in this dataset are provided per household, these\n",
      "columns may take surpinsingly large values for block groups with few households\n",
      "and many empty houses, such as vacation resorts.\n",
      "\n",
      "It can be downloaded/loaded using the\n",
      ":func:`sklearn.datasets.fetch_california_housing` function.\n",
      "\n",
      ".. topic:: References\n",
      "\n",
      "    - Pace, R. Kelley and Ronald Barry, Sparse Spatial Autoregressions,\n",
      "      Statistics and Probability Letters, 33 (1997) 291-297\n",
      "\n"
     ]
    }
   ],
   "source": [
    "print(california_housing.DESCR)"
   ]
  },
  {
   "cell_type": "markdown",
   "id": "1fffdb88",
   "metadata": {},
   "source": [
    "Le info nous permet de verifier les données et d'observer si il y a des valeures nul"
   ]
  },
  {
   "cell_type": "markdown",
   "id": "77c7792c",
   "metadata": {},
   "source": [
    "<font color=\"green\">Bonne idée de penser à vérifier ça</font>"
   ]
  },
  {
   "cell_type": "code",
   "execution_count": 10,
   "id": "c4953c83",
   "metadata": {},
   "outputs": [
    {
     "name": "stdout",
     "output_type": "stream",
     "text": [
      "<class 'pandas.core.frame.DataFrame'>\n",
      "RangeIndex: 20640 entries, 0 to 20639\n",
      "Data columns (total 9 columns):\n",
      " #   Column       Non-Null Count  Dtype  \n",
      "---  ------       --------------  -----  \n",
      " 0   MedInc       20640 non-null  float64\n",
      " 1   HouseAge     20640 non-null  float64\n",
      " 2   AveRooms     20640 non-null  float64\n",
      " 3   AveBedrms    20640 non-null  float64\n",
      " 4   Population   20640 non-null  float64\n",
      " 5   AveOccup     20640 non-null  float64\n",
      " 6   Latitude     20640 non-null  float64\n",
      " 7   Longitude    20640 non-null  float64\n",
      " 8   MedHouseVal  20640 non-null  float64\n",
      "dtypes: float64(9)\n",
      "memory usage: 1.4 MB\n"
     ]
    }
   ],
   "source": [
    "california_housing.frame.info()"
   ]
  },
  {
   "cell_type": "markdown",
   "id": "9e016217",
   "metadata": {},
   "source": [
    "Permet de voir la variance."
   ]
  },
  {
   "cell_type": "code",
   "execution_count": 11,
   "id": "b0150fc6",
   "metadata": {},
   "outputs": [
    {
     "data": {
      "text/html": [
       "<div>\n",
       "<style scoped>\n",
       "    .dataframe tbody tr th:only-of-type {\n",
       "        vertical-align: middle;\n",
       "    }\n",
       "\n",
       "    .dataframe tbody tr th {\n",
       "        vertical-align: top;\n",
       "    }\n",
       "\n",
       "    .dataframe thead th {\n",
       "        text-align: right;\n",
       "    }\n",
       "</style>\n",
       "<table border=\"1\" class=\"dataframe\">\n",
       "  <thead>\n",
       "    <tr style=\"text-align: right;\">\n",
       "      <th></th>\n",
       "      <th>count</th>\n",
       "      <th>mean</th>\n",
       "      <th>std</th>\n",
       "      <th>min</th>\n",
       "      <th>25%</th>\n",
       "      <th>50%</th>\n",
       "      <th>75%</th>\n",
       "      <th>max</th>\n",
       "    </tr>\n",
       "  </thead>\n",
       "  <tbody>\n",
       "    <tr>\n",
       "      <th>MedInc</th>\n",
       "      <td>20640.0</td>\n",
       "      <td>3.870671</td>\n",
       "      <td>1.899822</td>\n",
       "      <td>0.499900</td>\n",
       "      <td>2.563400</td>\n",
       "      <td>3.534800</td>\n",
       "      <td>4.743250</td>\n",
       "      <td>15.000100</td>\n",
       "    </tr>\n",
       "    <tr>\n",
       "      <th>HouseAge</th>\n",
       "      <td>20640.0</td>\n",
       "      <td>28.639486</td>\n",
       "      <td>12.585558</td>\n",
       "      <td>1.000000</td>\n",
       "      <td>18.000000</td>\n",
       "      <td>29.000000</td>\n",
       "      <td>37.000000</td>\n",
       "      <td>52.000000</td>\n",
       "    </tr>\n",
       "    <tr>\n",
       "      <th>AveRooms</th>\n",
       "      <td>20640.0</td>\n",
       "      <td>5.429000</td>\n",
       "      <td>2.474173</td>\n",
       "      <td>0.846154</td>\n",
       "      <td>4.440716</td>\n",
       "      <td>5.229129</td>\n",
       "      <td>6.052381</td>\n",
       "      <td>141.909091</td>\n",
       "    </tr>\n",
       "    <tr>\n",
       "      <th>AveBedrms</th>\n",
       "      <td>20640.0</td>\n",
       "      <td>1.096675</td>\n",
       "      <td>0.473911</td>\n",
       "      <td>0.333333</td>\n",
       "      <td>1.006079</td>\n",
       "      <td>1.048780</td>\n",
       "      <td>1.099526</td>\n",
       "      <td>34.066667</td>\n",
       "    </tr>\n",
       "    <tr>\n",
       "      <th>Population</th>\n",
       "      <td>20640.0</td>\n",
       "      <td>1425.476744</td>\n",
       "      <td>1132.462122</td>\n",
       "      <td>3.000000</td>\n",
       "      <td>787.000000</td>\n",
       "      <td>1166.000000</td>\n",
       "      <td>1725.000000</td>\n",
       "      <td>35682.000000</td>\n",
       "    </tr>\n",
       "    <tr>\n",
       "      <th>AveOccup</th>\n",
       "      <td>20640.0</td>\n",
       "      <td>3.070655</td>\n",
       "      <td>10.386050</td>\n",
       "      <td>0.692308</td>\n",
       "      <td>2.429741</td>\n",
       "      <td>2.818116</td>\n",
       "      <td>3.282261</td>\n",
       "      <td>1243.333333</td>\n",
       "    </tr>\n",
       "    <tr>\n",
       "      <th>Latitude</th>\n",
       "      <td>20640.0</td>\n",
       "      <td>35.631861</td>\n",
       "      <td>2.135952</td>\n",
       "      <td>32.540000</td>\n",
       "      <td>33.930000</td>\n",
       "      <td>34.260000</td>\n",
       "      <td>37.710000</td>\n",
       "      <td>41.950000</td>\n",
       "    </tr>\n",
       "    <tr>\n",
       "      <th>Longitude</th>\n",
       "      <td>20640.0</td>\n",
       "      <td>-119.569704</td>\n",
       "      <td>2.003532</td>\n",
       "      <td>-124.350000</td>\n",
       "      <td>-121.800000</td>\n",
       "      <td>-118.490000</td>\n",
       "      <td>-118.010000</td>\n",
       "      <td>-114.310000</td>\n",
       "    </tr>\n",
       "    <tr>\n",
       "      <th>MedHouseVal</th>\n",
       "      <td>20640.0</td>\n",
       "      <td>2.068558</td>\n",
       "      <td>1.153956</td>\n",
       "      <td>0.149990</td>\n",
       "      <td>1.196000</td>\n",
       "      <td>1.797000</td>\n",
       "      <td>2.647250</td>\n",
       "      <td>5.000010</td>\n",
       "    </tr>\n",
       "  </tbody>\n",
       "</table>\n",
       "</div>"
      ],
      "text/plain": [
       "               count         mean          std         min         25%  \\\n",
       "MedInc       20640.0     3.870671     1.899822    0.499900    2.563400   \n",
       "HouseAge     20640.0    28.639486    12.585558    1.000000   18.000000   \n",
       "AveRooms     20640.0     5.429000     2.474173    0.846154    4.440716   \n",
       "AveBedrms    20640.0     1.096675     0.473911    0.333333    1.006079   \n",
       "Population   20640.0  1425.476744  1132.462122    3.000000  787.000000   \n",
       "AveOccup     20640.0     3.070655    10.386050    0.692308    2.429741   \n",
       "Latitude     20640.0    35.631861     2.135952   32.540000   33.930000   \n",
       "Longitude    20640.0  -119.569704     2.003532 -124.350000 -121.800000   \n",
       "MedHouseVal  20640.0     2.068558     1.153956    0.149990    1.196000   \n",
       "\n",
       "                     50%          75%           max  \n",
       "MedInc          3.534800     4.743250     15.000100  \n",
       "HouseAge       29.000000    37.000000     52.000000  \n",
       "AveRooms        5.229129     6.052381    141.909091  \n",
       "AveBedrms       1.048780     1.099526     34.066667  \n",
       "Population   1166.000000  1725.000000  35682.000000  \n",
       "AveOccup        2.818116     3.282261   1243.333333  \n",
       "Latitude       34.260000    37.710000     41.950000  \n",
       "Longitude    -118.490000  -118.010000   -114.310000  \n",
       "MedHouseVal     1.797000     2.647250      5.000010  "
      ]
     },
     "execution_count": 11,
     "metadata": {},
     "output_type": "execute_result"
    }
   ],
   "source": [
    "california_housing.frame.describe().T"
   ]
  },
  {
   "cell_type": "markdown",
   "id": "9371d13c",
   "metadata": {},
   "source": [
    "La commande columns permet de voir le nom des colonnes dans le dataset"
   ]
  },
  {
   "cell_type": "code",
   "execution_count": 12,
   "id": "9a9bc301",
   "metadata": {},
   "outputs": [
    {
     "data": {
      "text/plain": [
       "Index(['MedInc', 'HouseAge', 'AveRooms', 'AveBedrms', 'Population', 'AveOccup',\n",
       "       'Latitude', 'Longitude', 'MedHouseVal'],\n",
       "      dtype='object')"
      ]
     },
     "execution_count": 12,
     "metadata": {},
     "output_type": "execute_result"
    }
   ],
   "source": [
    "california_housing.frame.columns"
   ]
  },
  {
   "cell_type": "markdown",
   "id": "df13625e",
   "metadata": {},
   "source": [
    "Initialisation de X"
   ]
  },
  {
   "cell_type": "code",
   "execution_count": 13,
   "id": "8b658042",
   "metadata": {},
   "outputs": [
    {
     "data": {
      "text/html": [
       "<div>\n",
       "<style scoped>\n",
       "    .dataframe tbody tr th:only-of-type {\n",
       "        vertical-align: middle;\n",
       "    }\n",
       "\n",
       "    .dataframe tbody tr th {\n",
       "        vertical-align: top;\n",
       "    }\n",
       "\n",
       "    .dataframe thead th {\n",
       "        text-align: right;\n",
       "    }\n",
       "</style>\n",
       "<table border=\"1\" class=\"dataframe\">\n",
       "  <thead>\n",
       "    <tr style=\"text-align: right;\">\n",
       "      <th></th>\n",
       "      <th>Longitude</th>\n",
       "      <th>Latitude</th>\n",
       "      <th>HouseAge</th>\n",
       "      <th>AveRooms</th>\n",
       "      <th>AveBdrms</th>\n",
       "      <th>Population</th>\n",
       "      <th>AveOccup</th>\n",
       "      <th>MedInc</th>\n",
       "    </tr>\n",
       "  </thead>\n",
       "  <tbody>\n",
       "    <tr>\n",
       "      <th>0</th>\n",
       "      <td>2.344766</td>\n",
       "      <td>0.982143</td>\n",
       "      <td>0.628559</td>\n",
       "      <td>-0.153758</td>\n",
       "      <td>-0.974429</td>\n",
       "      <td>-0.049597</td>\n",
       "      <td>1.052548</td>\n",
       "      <td>-1.327835</td>\n",
       "    </tr>\n",
       "    <tr>\n",
       "      <th>1</th>\n",
       "      <td>2.332238</td>\n",
       "      <td>-0.607019</td>\n",
       "      <td>0.327041</td>\n",
       "      <td>-0.263336</td>\n",
       "      <td>0.861439</td>\n",
       "      <td>-0.092512</td>\n",
       "      <td>1.043185</td>\n",
       "      <td>-1.322844</td>\n",
       "    </tr>\n",
       "    <tr>\n",
       "      <th>2</th>\n",
       "      <td>1.782699</td>\n",
       "      <td>1.856182</td>\n",
       "      <td>1.155620</td>\n",
       "      <td>-0.049016</td>\n",
       "      <td>-0.820777</td>\n",
       "      <td>-0.025843</td>\n",
       "      <td>1.038503</td>\n",
       "      <td>-1.332827</td>\n",
       "    </tr>\n",
       "    <tr>\n",
       "      <th>3</th>\n",
       "      <td>0.932968</td>\n",
       "      <td>1.856182</td>\n",
       "      <td>0.156966</td>\n",
       "      <td>-0.049833</td>\n",
       "      <td>-0.766028</td>\n",
       "      <td>-0.050329</td>\n",
       "      <td>1.038503</td>\n",
       "      <td>-1.337818</td>\n",
       "    </tr>\n",
       "    <tr>\n",
       "      <th>4</th>\n",
       "      <td>-0.012881</td>\n",
       "      <td>1.856182</td>\n",
       "      <td>0.344711</td>\n",
       "      <td>-0.032906</td>\n",
       "      <td>-0.759847</td>\n",
       "      <td>-0.085616</td>\n",
       "      <td>1.038503</td>\n",
       "      <td>-1.337818</td>\n",
       "    </tr>\n",
       "  </tbody>\n",
       "</table>\n",
       "</div>"
      ],
      "text/plain": [
       "   Longitude  Latitude  HouseAge  AveRooms  AveBdrms  Population  AveOccup  \\\n",
       "0   2.344766  0.982143  0.628559 -0.153758 -0.974429   -0.049597  1.052548   \n",
       "1   2.332238 -0.607019  0.327041 -0.263336  0.861439   -0.092512  1.043185   \n",
       "2   1.782699  1.856182  1.155620 -0.049016 -0.820777   -0.025843  1.038503   \n",
       "3   0.932968  1.856182  0.156966 -0.049833 -0.766028   -0.050329  1.038503   \n",
       "4  -0.012881  1.856182  0.344711 -0.032906 -0.759847   -0.085616  1.038503   \n",
       "\n",
       "     MedInc  \n",
       "0 -1.327835  \n",
       "1 -1.322844  \n",
       "2 -1.332827  \n",
       "3 -1.337818  \n",
       "4 -1.337818  "
      ]
     },
     "execution_count": 13,
     "metadata": {},
     "output_type": "execute_result"
    }
   ],
   "source": [
    "from sklearn.preprocessing import StandardScaler\n",
    "sc_x = StandardScaler()\n",
    "x =  pd.DataFrame(sc_x.fit_transform(california_housing.frame.drop([ \"MedHouseVal\"], axis = 1),),\n",
    "        columns=['Longitude', 'Latitude', 'HouseAge', 'AveRooms',\n",
    "       'AveBdrms', 'Population', 'AveOccup', 'MedInc'])\n",
    "x.head()\n",
    "# x.shape"
   ]
  },
  {
   "cell_type": "markdown",
   "id": "37079458",
   "metadata": {},
   "source": [
    "Initialisation de Y"
   ]
  },
  {
   "cell_type": "code",
   "execution_count": 14,
   "id": "14f928d7",
   "metadata": {},
   "outputs": [
    {
     "data": {
      "text/html": [
       "<div>\n",
       "<style scoped>\n",
       "    .dataframe tbody tr th:only-of-type {\n",
       "        vertical-align: middle;\n",
       "    }\n",
       "\n",
       "    .dataframe tbody tr th {\n",
       "        vertical-align: top;\n",
       "    }\n",
       "\n",
       "    .dataframe thead th {\n",
       "        text-align: right;\n",
       "    }\n",
       "</style>\n",
       "<table border=\"1\" class=\"dataframe\">\n",
       "  <thead>\n",
       "    <tr style=\"text-align: right;\">\n",
       "      <th></th>\n",
       "      <th>MedHouseVal</th>\n",
       "    </tr>\n",
       "  </thead>\n",
       "  <tbody>\n",
       "    <tr>\n",
       "      <th>0</th>\n",
       "      <td>2.129631</td>\n",
       "    </tr>\n",
       "    <tr>\n",
       "      <th>1</th>\n",
       "      <td>1.314156</td>\n",
       "    </tr>\n",
       "    <tr>\n",
       "      <th>2</th>\n",
       "      <td>1.258693</td>\n",
       "    </tr>\n",
       "    <tr>\n",
       "      <th>3</th>\n",
       "      <td>1.165100</td>\n",
       "    </tr>\n",
       "    <tr>\n",
       "      <th>4</th>\n",
       "      <td>1.172900</td>\n",
       "    </tr>\n",
       "  </tbody>\n",
       "</table>\n",
       "</div>"
      ],
      "text/plain": [
       "   MedHouseVal\n",
       "0     2.129631\n",
       "1     1.314156\n",
       "2     1.258693\n",
       "3     1.165100\n",
       "4     1.172900"
      ]
     },
     "execution_count": 14,
     "metadata": {},
     "output_type": "execute_result"
    }
   ],
   "source": [
    "y = pd.DataFrame(sc_x.fit_transform(california_housing.frame.drop(['MedInc', 'HouseAge', 'AveRooms', 'AveBedrms', 'Population', 'AveOccup',\n",
    "       'Latitude', 'Longitude'], axis = 1),),\n",
    "                 columns=[\"MedHouseVal\"])\n",
    "y.head()\n",
    "# y.shape"
   ]
  },
  {
   "cell_type": "markdown",
   "id": "ab8eee76",
   "metadata": {},
   "source": [
    "Importation de la librairie train_test_split.\n",
    "Détermination des données d'entrainement et de test ainsi que le poursentage utilisé pour faire le test."
   ]
  },
  {
   "cell_type": "markdown",
   "id": "cd50a274",
   "metadata": {},
   "source": [
    "<font color=\"green\">Les cellules précédentes sont bien détaillées, on comprend mieux ce que tu fais que pour le modèle précédent</font>"
   ]
  },
  {
   "cell_type": "code",
   "execution_count": 15,
   "id": "d3f1307a",
   "metadata": {},
   "outputs": [],
   "source": [
    "from sklearn.model_selection import train_test_split\n",
    "x_train, x_test, y_train, y_test = train_test_split(x, y, test_size = .20, random_state = 1,)"
   ]
  },
  {
   "cell_type": "markdown",
   "id": "6aaaa48e",
   "metadata": {},
   "source": [
    "On fait une regression lineaire avec les données d'entrainement de X et Y"
   ]
  },
  {
   "cell_type": "code",
   "execution_count": 16,
   "id": "25104ecb",
   "metadata": {},
   "outputs": [
    {
     "data": {
      "text/html": [
       "<style>#sk-container-id-1 {color: black;background-color: white;}#sk-container-id-1 pre{padding: 0;}#sk-container-id-1 div.sk-toggleable {background-color: white;}#sk-container-id-1 label.sk-toggleable__label {cursor: pointer;display: block;width: 100%;margin-bottom: 0;padding: 0.3em;box-sizing: border-box;text-align: center;}#sk-container-id-1 label.sk-toggleable__label-arrow:before {content: \"▸\";float: left;margin-right: 0.25em;color: #696969;}#sk-container-id-1 label.sk-toggleable__label-arrow:hover:before {color: black;}#sk-container-id-1 div.sk-estimator:hover label.sk-toggleable__label-arrow:before {color: black;}#sk-container-id-1 div.sk-toggleable__content {max-height: 0;max-width: 0;overflow: hidden;text-align: left;background-color: #f0f8ff;}#sk-container-id-1 div.sk-toggleable__content pre {margin: 0.2em;color: black;border-radius: 0.25em;background-color: #f0f8ff;}#sk-container-id-1 input.sk-toggleable__control:checked~div.sk-toggleable__content {max-height: 200px;max-width: 100%;overflow: auto;}#sk-container-id-1 input.sk-toggleable__control:checked~label.sk-toggleable__label-arrow:before {content: \"▾\";}#sk-container-id-1 div.sk-estimator input.sk-toggleable__control:checked~label.sk-toggleable__label {background-color: #d4ebff;}#sk-container-id-1 div.sk-label input.sk-toggleable__control:checked~label.sk-toggleable__label {background-color: #d4ebff;}#sk-container-id-1 input.sk-hidden--visually {border: 0;clip: rect(1px 1px 1px 1px);clip: rect(1px, 1px, 1px, 1px);height: 1px;margin: -1px;overflow: hidden;padding: 0;position: absolute;width: 1px;}#sk-container-id-1 div.sk-estimator {font-family: monospace;background-color: #f0f8ff;border: 1px dotted black;border-radius: 0.25em;box-sizing: border-box;margin-bottom: 0.5em;}#sk-container-id-1 div.sk-estimator:hover {background-color: #d4ebff;}#sk-container-id-1 div.sk-parallel-item::after {content: \"\";width: 100%;border-bottom: 1px solid gray;flex-grow: 1;}#sk-container-id-1 div.sk-label:hover label.sk-toggleable__label {background-color: #d4ebff;}#sk-container-id-1 div.sk-serial::before {content: \"\";position: absolute;border-left: 1px solid gray;box-sizing: border-box;top: 0;bottom: 0;left: 50%;z-index: 0;}#sk-container-id-1 div.sk-serial {display: flex;flex-direction: column;align-items: center;background-color: white;padding-right: 0.2em;padding-left: 0.2em;position: relative;}#sk-container-id-1 div.sk-item {position: relative;z-index: 1;}#sk-container-id-1 div.sk-parallel {display: flex;align-items: stretch;justify-content: center;background-color: white;position: relative;}#sk-container-id-1 div.sk-item::before, #sk-container-id-1 div.sk-parallel-item::before {content: \"\";position: absolute;border-left: 1px solid gray;box-sizing: border-box;top: 0;bottom: 0;left: 50%;z-index: -1;}#sk-container-id-1 div.sk-parallel-item {display: flex;flex-direction: column;z-index: 1;position: relative;background-color: white;}#sk-container-id-1 div.sk-parallel-item:first-child::after {align-self: flex-end;width: 50%;}#sk-container-id-1 div.sk-parallel-item:last-child::after {align-self: flex-start;width: 50%;}#sk-container-id-1 div.sk-parallel-item:only-child::after {width: 0;}#sk-container-id-1 div.sk-dashed-wrapped {border: 1px dashed gray;margin: 0 0.4em 0.5em 0.4em;box-sizing: border-box;padding-bottom: 0.4em;background-color: white;}#sk-container-id-1 div.sk-label label {font-family: monospace;font-weight: bold;display: inline-block;line-height: 1.2em;}#sk-container-id-1 div.sk-label-container {text-align: center;}#sk-container-id-1 div.sk-container {/* jupyter's `normalize.less` sets `[hidden] { display: none; }` but bootstrap.min.css set `[hidden] { display: none !important; }` so we also need the `!important` here to be able to override the default hidden behavior on the sphinx rendered scikit-learn.org. See: https://github.com/scikit-learn/scikit-learn/issues/21755 */display: inline-block !important;position: relative;}#sk-container-id-1 div.sk-text-repr-fallback {display: none;}</style><div id=\"sk-container-id-1\" class=\"sk-top-container\"><div class=\"sk-text-repr-fallback\"><pre>LinearRegression()</pre><b>In a Jupyter environment, please rerun this cell to show the HTML representation or trust the notebook. <br />On GitHub, the HTML representation is unable to render, please try loading this page with nbviewer.org.</b></div><div class=\"sk-container\" hidden><div class=\"sk-item\"><div class=\"sk-estimator sk-toggleable\"><input class=\"sk-toggleable__control sk-hidden--visually\" id=\"sk-estimator-id-1\" type=\"checkbox\" checked><label for=\"sk-estimator-id-1\" class=\"sk-toggleable__label sk-toggleable__label-arrow\">LinearRegression</label><div class=\"sk-toggleable__content\"><pre>LinearRegression()</pre></div></div></div></div></div>"
      ],
      "text/plain": [
       "LinearRegression()"
      ]
     },
     "execution_count": 16,
     "metadata": {},
     "output_type": "execute_result"
    }
   ],
   "source": [
    "from sklearn.linear_model import LinearRegression\n",
    "model1 = LinearRegression()\n",
    "model1.fit(x_train, y_train)"
   ]
  },
  {
   "cell_type": "markdown",
   "id": "ea12d1b8",
   "metadata": {},
   "source": [
    "On affiche les coefficient"
   ]
  },
  {
   "cell_type": "code",
   "execution_count": 17,
   "id": "9eaca761",
   "metadata": {},
   "outputs": [
    {
     "name": "stdout",
     "output_type": "stream",
     "text": [
      "[0.00377388]\n",
      "[[ 0.72203441  0.10565312 -0.2244958   0.25962984 -0.00360842 -0.03103075\n",
      "  -0.78845192 -0.76498427]]\n"
     ]
    }
   ],
   "source": [
    "print(model1.intercept_)\n",
    "print(model1.coef_)"
   ]
  },
  {
   "cell_type": "markdown",
   "id": "95a40cff",
   "metadata": {},
   "source": [
    "On affiche les prédictions des données"
   ]
  },
  {
   "cell_type": "code",
   "execution_count": 18,
   "id": "01a3a6a1",
   "metadata": {},
   "outputs": [
    {
     "name": "stdout",
     "output_type": "stream",
     "text": [
      "[[ 0.04949951]\n",
      " [-0.9782125 ]\n",
      " [ 0.55489912]\n",
      " ...\n",
      " [ 0.76046823]\n",
      " [ 0.49413524]\n",
      " [-0.51884199]]\n",
      "       MedHouseVal\n",
      "4712      1.283825\n",
      "2151     -1.179933\n",
      "15927     0.195369\n",
      "82       -0.817692\n",
      "8161      0.160705\n",
      "...            ...\n",
      "2319     -1.201598\n",
      "5341      0.157238\n",
      "16888     1.240495\n",
      "6823      0.177170\n",
      "11878    -0.564644\n",
      "\n",
      "[4128 rows x 1 columns]\n"
     ]
    }
   ],
   "source": [
    "y_p = model1.predict(x_test)\n",
    "print(y_p)\n",
    "print(y_test)"
   ]
  },
  {
   "cell_type": "markdown",
   "id": "c59308ca",
   "metadata": {},
   "source": [
    "On affiche la moyenne d'erreur."
   ]
  },
  {
   "cell_type": "code",
   "execution_count": 19,
   "id": "60a81f3a",
   "metadata": {},
   "outputs": [
    {
     "name": "stdout",
     "output_type": "stream",
     "text": [
      "0.6303860650696056\n",
      "0.626875065106356\n"
     ]
    }
   ],
   "source": [
    "from sklearn import metrics\n",
    "print(np.sqrt(metrics.mean_squared_error(y_test, y_p)))\n",
    "print(np.sqrt(metrics.mean_squared_error(y_train, model1.predict(x_train))))"
   ]
  },
  {
   "cell_type": "markdown",
   "id": "ff4973c7",
   "metadata": {},
   "source": [
    "Initialisation de X1 et Y1."
   ]
  },
  {
   "cell_type": "code",
   "execution_count": 20,
   "id": "30c44b81",
   "metadata": {},
   "outputs": [],
   "source": [
    "x1 = x[['MedInc']]\n",
    "y1 = y[['MedHouseVal']]"
   ]
  },
  {
   "cell_type": "markdown",
   "id": "d252b591",
   "metadata": {},
   "source": [
    "Détermination des données d'entrainement et de test ainsi que le poursentage utilisé pour faire le test."
   ]
  },
  {
   "cell_type": "code",
   "execution_count": 21,
   "id": "2fb4efac",
   "metadata": {},
   "outputs": [],
   "source": [
    "x1_train, x1_test, y1_train, y1_test = train_test_split(x1, y1, test_size = .20, random_state = 1,)"
   ]
  },
  {
   "cell_type": "markdown",
   "id": "f3d3e92a",
   "metadata": {},
   "source": [
    "Test du deuxieme modele.\n",
    "<font color=\"green\">Quel deuxième modèle ? On a un peu de mal à suivre, n'hésite pas à rajouter des explications qui expliquent ce que l'on veut faire de façon générale pour chaque modèle, et pas seulement pour chaque bloc de code</font>"
   ]
  },
  {
   "cell_type": "code",
   "execution_count": 22,
   "id": "c1e2afef",
   "metadata": {
    "scrolled": true
   },
   "outputs": [
    {
     "data": {
      "text/html": [
       "<style>#sk-container-id-2 {color: black;background-color: white;}#sk-container-id-2 pre{padding: 0;}#sk-container-id-2 div.sk-toggleable {background-color: white;}#sk-container-id-2 label.sk-toggleable__label {cursor: pointer;display: block;width: 100%;margin-bottom: 0;padding: 0.3em;box-sizing: border-box;text-align: center;}#sk-container-id-2 label.sk-toggleable__label-arrow:before {content: \"▸\";float: left;margin-right: 0.25em;color: #696969;}#sk-container-id-2 label.sk-toggleable__label-arrow:hover:before {color: black;}#sk-container-id-2 div.sk-estimator:hover label.sk-toggleable__label-arrow:before {color: black;}#sk-container-id-2 div.sk-toggleable__content {max-height: 0;max-width: 0;overflow: hidden;text-align: left;background-color: #f0f8ff;}#sk-container-id-2 div.sk-toggleable__content pre {margin: 0.2em;color: black;border-radius: 0.25em;background-color: #f0f8ff;}#sk-container-id-2 input.sk-toggleable__control:checked~div.sk-toggleable__content {max-height: 200px;max-width: 100%;overflow: auto;}#sk-container-id-2 input.sk-toggleable__control:checked~label.sk-toggleable__label-arrow:before {content: \"▾\";}#sk-container-id-2 div.sk-estimator input.sk-toggleable__control:checked~label.sk-toggleable__label {background-color: #d4ebff;}#sk-container-id-2 div.sk-label input.sk-toggleable__control:checked~label.sk-toggleable__label {background-color: #d4ebff;}#sk-container-id-2 input.sk-hidden--visually {border: 0;clip: rect(1px 1px 1px 1px);clip: rect(1px, 1px, 1px, 1px);height: 1px;margin: -1px;overflow: hidden;padding: 0;position: absolute;width: 1px;}#sk-container-id-2 div.sk-estimator {font-family: monospace;background-color: #f0f8ff;border: 1px dotted black;border-radius: 0.25em;box-sizing: border-box;margin-bottom: 0.5em;}#sk-container-id-2 div.sk-estimator:hover {background-color: #d4ebff;}#sk-container-id-2 div.sk-parallel-item::after {content: \"\";width: 100%;border-bottom: 1px solid gray;flex-grow: 1;}#sk-container-id-2 div.sk-label:hover label.sk-toggleable__label {background-color: #d4ebff;}#sk-container-id-2 div.sk-serial::before {content: \"\";position: absolute;border-left: 1px solid gray;box-sizing: border-box;top: 0;bottom: 0;left: 50%;z-index: 0;}#sk-container-id-2 div.sk-serial {display: flex;flex-direction: column;align-items: center;background-color: white;padding-right: 0.2em;padding-left: 0.2em;position: relative;}#sk-container-id-2 div.sk-item {position: relative;z-index: 1;}#sk-container-id-2 div.sk-parallel {display: flex;align-items: stretch;justify-content: center;background-color: white;position: relative;}#sk-container-id-2 div.sk-item::before, #sk-container-id-2 div.sk-parallel-item::before {content: \"\";position: absolute;border-left: 1px solid gray;box-sizing: border-box;top: 0;bottom: 0;left: 50%;z-index: -1;}#sk-container-id-2 div.sk-parallel-item {display: flex;flex-direction: column;z-index: 1;position: relative;background-color: white;}#sk-container-id-2 div.sk-parallel-item:first-child::after {align-self: flex-end;width: 50%;}#sk-container-id-2 div.sk-parallel-item:last-child::after {align-self: flex-start;width: 50%;}#sk-container-id-2 div.sk-parallel-item:only-child::after {width: 0;}#sk-container-id-2 div.sk-dashed-wrapped {border: 1px dashed gray;margin: 0 0.4em 0.5em 0.4em;box-sizing: border-box;padding-bottom: 0.4em;background-color: white;}#sk-container-id-2 div.sk-label label {font-family: monospace;font-weight: bold;display: inline-block;line-height: 1.2em;}#sk-container-id-2 div.sk-label-container {text-align: center;}#sk-container-id-2 div.sk-container {/* jupyter's `normalize.less` sets `[hidden] { display: none; }` but bootstrap.min.css set `[hidden] { display: none !important; }` so we also need the `!important` here to be able to override the default hidden behavior on the sphinx rendered scikit-learn.org. See: https://github.com/scikit-learn/scikit-learn/issues/21755 */display: inline-block !important;position: relative;}#sk-container-id-2 div.sk-text-repr-fallback {display: none;}</style><div id=\"sk-container-id-2\" class=\"sk-top-container\"><div class=\"sk-text-repr-fallback\"><pre>LinearRegression()</pre><b>In a Jupyter environment, please rerun this cell to show the HTML representation or trust the notebook. <br />On GitHub, the HTML representation is unable to render, please try loading this page with nbviewer.org.</b></div><div class=\"sk-container\" hidden><div class=\"sk-item\"><div class=\"sk-estimator sk-toggleable\"><input class=\"sk-toggleable__control sk-hidden--visually\" id=\"sk-estimator-id-2\" type=\"checkbox\" checked><label for=\"sk-estimator-id-2\" class=\"sk-toggleable__label sk-toggleable__label-arrow\">LinearRegression</label><div class=\"sk-toggleable__content\"><pre>LinearRegression()</pre></div></div></div></div></div>"
      ],
      "text/plain": [
       "LinearRegression()"
      ]
     },
     "execution_count": 22,
     "metadata": {},
     "output_type": "execute_result"
    }
   ],
   "source": [
    "from sklearn.linear_model import LinearRegression\n",
    "model2 = LinearRegression()\n",
    "model2.fit(x1_train, y1_train)"
   ]
  },
  {
   "cell_type": "markdown",
   "id": "de7f681d",
   "metadata": {},
   "source": [
    "On affiche le coefficient de notre deuxieme modele."
   ]
  },
  {
   "cell_type": "code",
   "execution_count": 23,
   "id": "5260065f",
   "metadata": {},
   "outputs": [
    {
     "name": "stdout",
     "output_type": "stream",
     "text": [
      "[0.00750319]\n",
      "[[-0.05087789]]\n"
     ]
    }
   ],
   "source": [
    "print(model2.intercept_)\n",
    "print(model2.coef_)"
   ]
  },
  {
   "cell_type": "markdown",
   "id": "9e48cefb",
   "metadata": {},
   "source": [
    "On affiche les prédictions des données de notre deuxieme modele."
   ]
  },
  {
   "cell_type": "code",
   "execution_count": 24,
   "id": "52416ed7",
   "metadata": {},
   "outputs": [
    {
     "name": "stdout",
     "output_type": "stream",
     "text": [
      "[[-0.02321691]\n",
      " [ 0.01284359]\n",
      " [ 0.07988565]\n",
      " ...\n",
      " [ 0.07861591]\n",
      " [-0.02981954]\n",
      " [-0.04810374]]\n",
      "       MedHouseVal\n",
      "4712      1.283825\n",
      "2151     -1.179933\n",
      "15927     0.195369\n",
      "82       -0.817692\n",
      "8161      0.160705\n",
      "...            ...\n",
      "2319     -1.201598\n",
      "5341      0.157238\n",
      "16888     1.240495\n",
      "6823      0.177170\n",
      "11878    -0.564644\n",
      "\n",
      "[4128 rows x 1 columns]\n"
     ]
    }
   ],
   "source": [
    "y_p1 = model2.predict(x1_test)\n",
    "print(y_p1)\n",
    "print(y1_test)"
   ]
  },
  {
   "cell_type": "markdown",
   "id": "84bb239a",
   "metadata": {},
   "source": [
    "On affiche la moyenne d'erreur."
   ]
  },
  {
   "cell_type": "code",
   "execution_count": 25,
   "id": "4b2960df",
   "metadata": {},
   "outputs": [
    {
     "name": "stdout",
     "output_type": "stream",
     "text": [
      "0.9932170195878257\n",
      "1.0004195865068934\n"
     ]
    }
   ],
   "source": [
    "from sklearn import metrics\n",
    "print(np.sqrt(metrics.mean_squared_error(y1_test, y_p1)))\n",
    "print(np.sqrt(metrics.mean_squared_error(y1_train, model2.predict(x1_train))))"
   ]
  },
  {
   "cell_type": "code",
   "execution_count": 26,
   "id": "bfbecf57",
   "metadata": {},
   "outputs": [
    {
     "data": {
      "text/plain": [
       "Text(0.5, 1.0, 'Model Prediction Chart')"
      ]
     },
     "execution_count": 26,
     "metadata": {},
     "output_type": "execute_result"
    },
    {
     "data": {
      "image/png": "[encoded data removed]",
      "text/plain": [
       "<Figure size 432x288 with 1 Axes>"
      ]
     },
     "metadata": {
      "needs_background": "light"
     },
     "output_type": "display_data"
    }
   ],
   "source": [
    "import matplotlib.pyplot as plt\n",
    "%matplotlib inline\n",
    "\n",
    "plt.plot(y_p1[0:25], 'y')\n",
    "plt.plot(y1[0:25], 'b')\n",
    "plt.plot(x1[0:25], 'g')\n",
    "plt.xlabel('Median Income')\n",
    "plt.ylabel('Median House Value')\n",
    "plt.title('Model Prediction Chart')"
   ]
  },
  {
   "cell_type": "markdown",
   "id": "437818a2",
   "metadata": {},
   "source": [
    "<font color=\"green\">Ici on ne comprend pas bien à quoi correspond chaque courbe, il faudrait peut-être rajouter une légende pour chaque courbe et quelques explications en markdown</font>"
   ]
  },
  {
   "cell_type": "markdown",
   "id": "ac991e25",
   "metadata": {},
   "source": [
    "#### Ceci conclut notre tutoriel, et sentez-vous libre de jouer avec les paramètres du modèle pour mieux le comprendre !\n",
    "<font color=\"green\">Globalement le code du tutoriel a l'air de fonctionner malgré quelques problèmes de clarté, surtout au niveau du nom des variables utilisées (bien penser à les changer pour qu'elles correspondent au problème à résoudre quand tu colles du code depuis Internet). Même si le tutoriel manque un peu d'explications, on voit que tu as beaucoup travaillé. Bien joué 👌</font>"
   ]
  },
  {
   "cell_type": "code",
   "execution_count": null,
   "id": "fe8f324f",
   "metadata": {},
   "outputs": [],
   "source": []
  }
 ],
 "metadata": {
  "kernelspec": {
   "display_name": "Python 3 (ipykernel)",
   "language": "python",
   "name": "python3"
  },
  "language_info": {
   "codemirror_mode": {
    "name": "ipython",
    "version": 3
   },
   "file_extension": ".py",
   "mimetype": "text/x-python",
   "name": "python",
   "nbconvert_exporter": "python",
   "pygments_lexer": "ipython3",
   "version": "3.10.6"
  }
 },
 "nbformat": 4,
 "nbformat_minor": 5
}
