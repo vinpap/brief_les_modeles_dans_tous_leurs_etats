{
 "cells": [
  {
   "cell_type": "markdown",
   "id": "85b9977b",
   "metadata": {},
   "source": [
    "# Tutoriel d'exemple de résolution d'un problème de machine learning"
   ]
  },
  {
   "cell_type": "markdown",
   "id": "99f3cbb1",
   "metadata": {},
   "source": [
    "Ce notebook va vous guider à travers ce cas, et va utiliser un modèle particulier de machine learning pour réaliser cette tâche : la *Machine à vecteurs de support* (ou *SVM (Support Vector Machine)* en anglais). Les parties suivantes sont dédiées à l'implémentation de ce modèle grâce à l'utilisation de la librairie scikit-learn.\n",
    "\n",
    "<font color=\"green\">Quel est le problème que l'on veut résoudre ici ? Il faudrait peut-être parler un peu de ce que l'on cherche à faire (i.e. identifier des chiffres en écriture manuscrite)</font>"
   ]
  },
  {
   "cell_type": "markdown",
   "id": "ed6b88de",
   "metadata": {},
   "source": [
    "# Code"
   ]
  },
  {
   "cell_type": "markdown",
   "id": "49c5a89d",
   "metadata": {},
   "source": [
    "### Importation des librairies"
   ]
  },
  {
   "cell_type": "code",
   "execution_count": 1,
   "id": "fde73ca9",
   "metadata": {},
   "outputs": [],
   "source": [
    "import matplotlib.pyplot as plt\n",
    "from sklearn import datasets, svm, metrics\n",
    "from sklearn.model_selection import train_test_split"
   ]
  },
  {
   "cell_type": "markdown",
   "id": "49187059",
   "metadata": {},
   "source": [
    "### Importation du dataset"
   ]
  },
  {
   "cell_type": "code",
   "execution_count": 2,
   "id": "2f0eff5a",
   "metadata": {},
   "outputs": [],
   "source": [
    "digits = datasets.load_digits()"
   ]
  },
  {
   "cell_type": "markdown",
   "id": "4f9f94f2",
   "metadata": {},
   "source": [
    "zip est une methode pour regrouper toutes les parametres mis entre parenthese comme un dictionnaire."
   ]
  },
  {
   "cell_type": "markdown",
   "id": "75df5dcc",
   "metadata": {},
   "source": [
    "Dans cette partie nous lui donnons des exemples stocker dans le base de données pour qu'il puisse apprendre. "
   ]
  },
  {
   "cell_type": "code",
   "execution_count": 3,
   "id": "0cb0353b",
   "metadata": {},
   "outputs": [
    {
     "data": {
      "image/png": "[encoded data removed]",
      "text/plain": [
       "<Figure size 720x216 with 4 Axes>"
      ]
     },
     "metadata": {
      "needs_background": "light"
     },
     "output_type": "display_data"
    }
   ],
   "source": [
    "_, axes = plt.subplots(nrows=1, ncols=4, figsize=(10, 3))\n",
    "for ax, image, label in zip(axes, digits.images, digits.target):\n",
    "    ax.set_axis_off()\n",
    "    ax.imshow(image, cmap=plt.cm.gray_r, interpolation=\"nearest\")\n",
    "    ax.set_title(\"Training: %i\" % label)"
   ]
  },
  {
   "cell_type": "markdown",
   "id": "60d6de4b",
   "metadata": {},
   "source": [
    "Dans un premier temps on vectorise l'image pour la passer de 8*8 a un vecteur d'une taille 64.\n",
    "\n",
    "Nous divisions le jeu de données en 2, 20 % pour s'entrainer et 80 % pour le test.\n",
    "\n",
    "Directement apres cela nous testons notre méthode.\n",
    "\n",
    "<font color=\"green\">C'est plutôt bien expliqué, bien joué</font>"
   ]
  },
  {
   "cell_type": "code",
   "execution_count": 4,
   "id": "15178375",
   "metadata": {},
   "outputs": [],
   "source": [
    "# flatten the images\n",
    "n_samples = len(digits.images)\n",
    "data = digits.images.reshape((n_samples, -1))\n",
    "\n",
    "# Create a classifier: a support vector classifier\n",
    "clf = svm.SVC(gamma=0.001)\n",
    "\n",
    "# Split data into 50% train and 50% test subsets\n",
    "X_train, X_test, y_train, y_test = train_test_split(\n",
    "    data, digits.target, test_size=0.8, shuffle=False\n",
    ")\n",
    "\n",
    "# Learn the digits on the train subset\n",
    "clf.fit(X_train, y_train)\n",
    "\n",
    "# Predict the value of the digit on the test subset\n",
    "predicted = clf.predict(X_test)"
   ]
  },
  {
   "cell_type": "markdown",
   "id": "8983ae00",
   "metadata": {},
   "source": [
    "Nous vérifions les résultats des prédictions, pour vérifier que le modeles fonctionne bien."
   ]
  },
  {
   "cell_type": "code",
   "execution_count": 5,
   "id": "d183ee16",
   "metadata": {},
   "outputs": [
    {
     "data": {
      "image/png": "[encoded data removed]",
      "text/plain": [
       "<Figure size 720x216 with 4 Axes>"
      ]
     },
     "metadata": {
      "needs_background": "light"
     },
     "output_type": "display_data"
    }
   ],
   "source": [
    "_, axes = plt.subplots(nrows=1, ncols=4, figsize=(10, 3))\n",
    "for ax, image, prediction in zip(axes, X_test, predicted):\n",
    "    ax.set_axis_off()\n",
    "    image = image.reshape(8, 8)\n",
    "    ax.imshow(image, cmap=plt.cm.gray_r, interpolation=\"nearest\")\n",
    "    ax.set_title(f\"Prediction: {prediction}\")"
   ]
  },
  {
   "cell_type": "code",
   "execution_count": 6,
   "id": "34d8d7dc",
   "metadata": {},
   "outputs": [
    {
     "name": "stdout",
     "output_type": "stream",
     "text": [
      "Classification report for classifier SVC(gamma=0.001):\n",
      "              precision    recall  f1-score   support\n",
      "\n",
      "           0       0.99      0.99      0.99       140\n",
      "           1       0.90      0.73      0.80       144\n",
      "           2       0.86      0.93      0.89       141\n",
      "           3       0.98      0.76      0.86       145\n",
      "           4       0.98      0.97      0.97       147\n",
      "           5       0.96      0.92      0.94       146\n",
      "           6       0.97      0.96      0.96       145\n",
      "           7       0.96      0.91      0.94       144\n",
      "           8       0.84      0.87      0.86       140\n",
      "           9       0.65      0.91      0.76       146\n",
      "\n",
      "    accuracy                           0.89      1438\n",
      "   macro avg       0.91      0.89      0.90      1438\n",
      "weighted avg       0.91      0.89      0.90      1438\n",
      "\n",
      "\n"
     ]
    }
   ],
   "source": [
    "print(\n",
    "    f\"Classification report for classifier {clf}:\\n\"\n",
    "    f\"{metrics.classification_report(y_test, predicted)}\\n\"\n",
    ")"
   ]
  },
  {
   "cell_type": "markdown",
   "id": "248262bf",
   "metadata": {},
   "source": [
    "Analyse des performance de notre modéle."
   ]
  },
  {
   "cell_type": "code",
   "execution_count": 7,
   "id": "04ac3c7c",
   "metadata": {},
   "outputs": [
    {
     "name": "stdout",
     "output_type": "stream",
     "text": [
      "Confusion matrix:\n",
      "[[139   0   0   0   1   0   0   0   0   0]\n",
      " [  0 105  18   0   0   1   4   0  13   3]\n",
      " [  0   0 131   2   0   0   0   0   0   8]\n",
      " [  0   0   2 110   0   3   0   2   4  24]\n",
      " [  0   0   0   0 142   0   0   1   0   4]\n",
      " [  0   0   0   0   2 134   1   0   0   9]\n",
      " [  2   1   0   0   0   0 139   0   3   0]\n",
      " [  0   0   0   0   0   0   0 131   1  12]\n",
      " [  0   3   2   0   0   1   0   0 122  12]\n",
      " [  0   8   0   0   0   1   0   2   2 133]]\n"
     ]
    },
    {
     "data": {
      "image/png": "[encoded data removed]",
      "text/plain": [
       "<Figure size 432x288 with 2 Axes>"
      ]
     },
     "metadata": {
      "needs_background": "light"
     },
     "output_type": "display_data"
    }
   ],
   "source": [
    "disp = metrics.ConfusionMatrixDisplay.from_predictions(y_test, predicted)\n",
    "disp.figure_.suptitle(\"Confusion Matrix\")\n",
    "print(f\"Confusion matrix:\\n{disp.confusion_matrix}\")\n",
    "\n",
    "plt.show()"
   ]
  },
  {
   "cell_type": "markdown",
   "id": "2dabb636",
   "metadata": {},
   "source": [
    "#### Ceci conclut notre tutoriel, et sentez-vous libre de jouer avec les paramètres du modèle pour mieux le comprendre !\n",
    "<font color=\"green\">Ce tutoriel n'est pas très long et plutôt bien expliqué, on arrive à comprendre où tu veux en venir. Attention à bien expliquer le problème à résoudre en début de tutoriel ! 🙂</font>"
   ]
  },
  {
   "cell_type": "code",
   "execution_count": null,
   "id": "3415df7d",
   "metadata": {},
   "outputs": [],
   "source": []
  }
 ],
 "metadata": {
  "kernelspec": {
   "display_name": "Python 3 (ipykernel)",
   "language": "python",
   "name": "python3"
  },
  "language_info": {
   "codemirror_mode": {
    "name": "ipython",
    "version": 3
   },
   "file_extension": ".py",
   "mimetype": "text/x-python",
   "name": "python",
   "nbconvert_exporter": "python",
   "pygments_lexer": "ipython3",
   "version": "3.10.6"
  }
 },
 "nbformat": 4,
 "nbformat_minor": 5
}
