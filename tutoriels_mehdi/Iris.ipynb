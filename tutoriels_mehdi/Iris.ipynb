{
 "cells": [
  {
   "cell_type": "markdown",
   "id": "5112d132",
   "metadata": {},
   "source": [
    "# Tutoriel d'exemple de résolution d'un problème de machine learning"
   ]
  },
  {
   "cell_type": "markdown",
   "id": "bd7f8f3c",
   "metadata": {},
   "source": [
    "## Problématique étudiée"
   ]
  },
  {
   "cell_type": "markdown",
   "id": "07fb9e33",
   "metadata": {},
   "source": [
    "La problématique étudiée est le cas avec le dataset iris. L'objectif est de trouver des groupes de fleurs, sans information préalable sur le type de fleur disponible dans le dataset (de manière aveugle).\n",
    "\n",
    "Ce notebook va vous guider à travers ce cas, et va utiliser un modèle particulier de machine learning pour réaliser cette tâche : les *K-moyennes* (ou *K-means* en anglais). Les parties suivantes sont dédiées à l'implémentation de ce modèle grâce à l'utilisation de la librairie scikit-learn.\n",
    "\n",
    "<font color=\"green\">Tu as expliqué le problème à résoudre en début de tutoriel, c'est plutôt pas mal (attention à ça sur les autres tutoriels)</font>"
   ]
  },
  {
   "cell_type": "markdown",
   "id": "f1e4ea05",
   "metadata": {},
   "source": [
    "## Code"
   ]
  },
  {
   "cell_type": "markdown",
   "id": "08fd9cb6",
   "metadata": {},
   "source": [
    "### Importation des différentes librairies "
   ]
  },
  {
   "cell_type": "code",
   "execution_count": 1,
   "id": "8289d932",
   "metadata": {},
   "outputs": [],
   "source": [
    "import numpy as np\n",
    "from sklearn.datasets import load_iris\n",
    "from time import time\n",
    "from sklearn import metrics\n",
    "from sklearn.pipeline import make_pipeline\n",
    "from sklearn.preprocessing import StandardScaler\n",
    "from sklearn.cluster import KMeans\n",
    "from sklearn.decomposition import PCA\n",
    "import matplotlib.pyplot as plt"
   ]
  },
  {
   "cell_type": "markdown",
   "id": "584ad094",
   "metadata": {},
   "source": [
    "### Importation du dataset "
   ]
  },
  {
   "cell_type": "markdown",
   "id": "d386218b",
   "metadata": {},
   "source": [
    "La première étape est d'importer le dataset et de voir de quoi il est constitué. Ici on importe le dataset iris."
   ]
  },
  {
   "cell_type": "code",
   "execution_count": 2,
   "id": "be739b0d",
   "metadata": {},
   "outputs": [
    {
     "name": "stdout",
     "output_type": "stream",
     "text": [
      "# iris: 3; # samples: 150; # features 4\n"
     ]
    }
   ],
   "source": [
    "data, labels = load_iris(return_X_y=True)\n",
    "(n_samples, n_features), n_iris = data.shape, np.unique(labels).size\n",
    "\n",
    "print(f\"# iris: {n_iris}; # samples: {n_samples}; # features {n_features}\")\n"
   ]
  },
  {
   "cell_type": "markdown",
   "id": "b59030d5",
   "metadata": {},
   "source": [
    "### Création de la Fonction utilisant K-means"
   ]
  },
  {
   "cell_type": "markdown",
   "id": "34885ba0",
   "metadata": {},
   "source": [
    "Dans la premiere partie du code on execute kmean grace a Fit et nous calculons inertia(fonction cout)\n",
    "\n",
    "<font color=\"green\">Avant de coder, il faudrait peut-être expliquer (en vulgarisant) en quoi consiste la méthode des k-means. De plus on ne comprend pas cette phrase parce que tu n'expliques pas ce qu'est 'inertia'</font>"
   ]
  },
  {
   "cell_type": "markdown",
   "id": "ca7a9bdf",
   "metadata": {},
   "source": [
    "Ajout des metriques dans clustering_metrics."
   ]
  },
  {
   "cell_type": "markdown",
   "id": "37e03b35",
   "metadata": {},
   "source": [
    "Création d'un silhouette score, si la valeurs est négative, le point est en moyenne plus proche du groupe voisin que du sien : il est donc mal classé. À l'inverse, si cette valeurs est positive,il est bien classé."
   ]
  },
  {
   "cell_type": "code",
   "execution_count": 3,
   "id": "180e5a1c",
   "metadata": {},
   "outputs": [],
   "source": [
    "def bench_k_means(kmeans, name, data, labels):\n",
    "    \"\"\"Benchmark to evaluate the KMeans initialization methods.\n",
    "\n",
    "    Parameters\n",
    "    ----------\n",
    "    kmeans : KMeans instance\n",
    "        A :class:`~sklearn.cluster.KMeans` instance with the initialization\n",
    "        already set.\n",
    "    name : str\n",
    "        Name given to the strategy. It will be used to show the results in a\n",
    "        table.\n",
    "    data : ndarray of shape (n_samples, n_features)\n",
    "        The data to cluster.\n",
    "    labels : ndarray of shape (n_samples,)\n",
    "        The labels used to compute the clustering metrics which requires some\n",
    "        supervision.\n",
    "    \"\"\"\n",
    "    t0 = time()\n",
    "    estimator = make_pipeline(StandardScaler(), kmeans).fit(data)\n",
    "    fit_time = time() - t0\n",
    "    results = [name, fit_time, estimator[-1].inertia_]\n",
    "\n",
    "    # Define the metrics which require only the true labels and estimator\n",
    "    # labels\n",
    "    clustering_metrics = [\n",
    "        metrics.homogeneity_score,\n",
    "        metrics.completeness_score,\n",
    "        metrics.v_measure_score,\n",
    "        metrics.adjusted_rand_score,\n",
    "        metrics.adjusted_mutual_info_score,\n",
    "    ]\n",
    "    results += [m(labels, estimator[-1].labels_) for m in clustering_metrics]\n",
    "\n",
    "    # The silhouette score requires the full dataset\n",
    "    results += [\n",
    "        metrics.silhouette_score(\n",
    "            data,\n",
    "            estimator[-1].labels_,\n",
    "            metric=\"euclidean\",\n",
    "            sample_size=300,\n",
    "        )\n",
    "    ]\n",
    "\n",
    "    # Show the results\n",
    "    formatter_result = (\n",
    "        \"{:9s}\\t{:.3f}s\\t{:.0f}\\t{:.3f}\\t{:.3f}\\t{:.3f}\\t{:.3f}\\t{:.3f}\\t{:.3f}\"\n",
    "    )\n",
    "    print(formatter_result.format(*results))"
   ]
  },
  {
   "cell_type": "markdown",
   "id": "7bc572c9",
   "metadata": {},
   "source": [
    "Dans cette patie,nous choisisons le type d'initialisation grace a init, Pour le nombre d'executions nnous utilisons n_init.\n",
    "Pour finir random_state, nous permet d'obtenir a chaque relance des resultats différent.\n",
    "\n",
    "<font color=\"green\">Même commentaire qu'au-dessus : l'initialisation de quoi ? Le lecteur est censé être débutant, il ne saurait pas de quoi on parle ici. Il est important de prendre le temps de parler du modèle des k-means et de son fonctionnement, dans les grandes lignes en tout cas</font>"
   ]
  },
  {
   "cell_type": "markdown",
   "id": "4f83fb10",
   "metadata": {},
   "source": [
    "Le tableau nous retourne le temps d'exécution ainsi que la valeur d'inertia\n",
    "\n",
    "<font color=\"green\">Même commentaire qu'avant : à quoi correspond intertia ?</font>"
   ]
  },
  {
   "cell_type": "code",
   "execution_count": 4,
   "id": "3907c614",
   "metadata": {},
   "outputs": [
    {
     "name": "stdout",
     "output_type": "stream",
     "text": [
      "__________________________________________________________________________________\n",
      "init\t\ttime\tinertia\thomo\tcompl\tv-meas\tARI\tAMI\tsilhouette\n"
     ]
    },
    {
     "name": "stderr",
     "output_type": "stream",
     "text": [
      "C:\\Users\\utilisateur\\anaconda3\\lib\\site-packages\\sklearn\\cluster\\_kmeans.py:1334: UserWarning: KMeans is known to have a memory leak on Windows with MKL, when there are less chunks than available threads. You can avoid it by setting the environment variable OMP_NUM_THREADS=1.\n",
      "  warnings.warn(\n"
     ]
    },
    {
     "name": "stdout",
     "output_type": "stream",
     "text": [
      "k-means++\t0.322s\t140\t0.659\t0.660\t0.659\t0.620\t0.655\t0.506\n"
     ]
    },
    {
     "name": "stderr",
     "output_type": "stream",
     "text": [
      "C:\\Users\\utilisateur\\anaconda3\\lib\\site-packages\\sklearn\\cluster\\_kmeans.py:1334: UserWarning: KMeans is known to have a memory leak on Windows with MKL, when there are less chunks than available threads. You can avoid it by setting the environment variable OMP_NUM_THREADS=1.\n",
      "  warnings.warn(\n"
     ]
    },
    {
     "name": "stdout",
     "output_type": "stream",
     "text": [
      "random   \t0.261s\t140\t0.659\t0.660\t0.659\t0.620\t0.655\t0.506\n",
      "PCA-based\t0.099s\t191\t0.535\t0.657\t0.590\t0.433\t0.584\t0.519\n",
      "__________________________________________________________________________________\n"
     ]
    },
    {
     "name": "stderr",
     "output_type": "stream",
     "text": [
      "C:\\Users\\utilisateur\\anaconda3\\lib\\site-packages\\sklearn\\cluster\\_kmeans.py:1334: UserWarning: KMeans is known to have a memory leak on Windows with MKL, when there are less chunks than available threads. You can avoid it by setting the environment variable OMP_NUM_THREADS=1.\n",
      "  warnings.warn(\n"
     ]
    }
   ],
   "source": [
    "print(82 * \"_\")\n",
    "print(\"init\\t\\ttime\\tinertia\\thomo\\tcompl\\tv-meas\\tARI\\tAMI\\tsilhouette\")\n",
    "\n",
    "kmeans = KMeans(init=\"k-means++\", n_clusters=n_iris, n_init=4, random_state=0)\n",
    "bench_k_means(kmeans=kmeans, name=\"k-means++\", data=data, labels=labels)\n",
    "\n",
    "kmeans = KMeans(init=\"random\", n_clusters=n_iris, n_init=4, random_state=0)\n",
    "bench_k_means(kmeans=kmeans, name=\"random\", data=data, labels=labels)\n",
    "\n",
    "pca = PCA(n_components=n_iris).fit(data)\n",
    "kmeans = KMeans(init=pca.components_, n_clusters=n_iris, n_init=1)\n",
    "bench_k_means(kmeans=kmeans, name=\"PCA-based\", data=data, labels=labels)\n",
    "\n",
    "print(82 * \"_\")"
   ]
  },
  {
   "cell_type": "markdown",
   "id": "b07d3664",
   "metadata": {},
   "source": [
    "<font color=\"green\">Deux choses ici :\n",
    "    <ul>\n",
    "    <li>On ne comprend pas bien à quoi correspondent tous ces nombres. Il aurait peut-être fallu une phrase ou deux pour dire lesquels d'entre eux sont pertinents et, si ce n'est pas trop technique, à quoi correspondent les nombres qui nous intéressent</li>\n",
    "    <li>En règle générale il vaut mieux essayer d'enlever les warnings. Pour ça tu peux les désactiver (comme tu l'as fait sur un autre tutoriel) mais ce n'est pas la meilleure solution car tu peux passer à côté d'avertissements importants. La solution idéale serait de corriger le problème mentionné dans l'avertissement, ici en ajoutant %env OMP_NUM_THREADS=1 au début de ton notebook.</li>\n",
    "    </ul></font>"
   ]
  },
  {
   "cell_type": "markdown",
   "id": "a30b8184",
   "metadata": {},
   "source": [
    "PCA (Principal component analysis ou Analyse en composantes principales) permet la réduction de la dimensionnalité linéaire à l'aide de la décomposition en valeurs singulières des données pour les projeter dans un espace de dimension inférieure."
   ]
  },
  {
   "cell_type": "markdown",
   "id": "45b8b3f1",
   "metadata": {},
   "source": [
    "<font color=\"green\">Tu pourrais peut-être reformuler cette phrase avec tes propres mots, là ce n'est pas très digeste je trouve</font>"
   ]
  },
  {
   "cell_type": "markdown",
   "id": "8289b050",
   "metadata": {},
   "source": [
    "Kmeans++ permet d'éparpiller le plus possible le centroide dans le jeu de donnée\n",
    "\n",
    "random permet d'initialisation de manière totalement aléatoire \n",
    "\n",
    "Pca-based permet interpreter les donnés pour les mettre en 2D(au lieu de 4D) et de calculer les centroides en une seule fois\n",
    " \n",
    "fit est une méthode qui permet d'exécuté l'algorithme kmeans.\n",
    "\n",
    "h nous permet de determiné la taille du maillage.\n",
    "\n",
    "Z nous permet de le centroids le plus proches grace a la methode predict(X).\n",
    "\n",
    "Ensuite des centroids au scatter.(chaque point du dataset est affecté au centroid le plus proche, ensuite le centroid est déplacé au milieu du cluster(la ou se situe le moyenne des points)).\n",
    "\n",
    "<font color=\"green\">Il faudrait peut-être commencer par définir ce qu'est un centroïde. Sinon tu as plutôt bien pris le temps d'expliquer les différents points, c'est plutôt pas mal</font>"
   ]
  },
  {
   "cell_type": "code",
   "execution_count": 5,
   "id": "719fb98a",
   "metadata": {
    "scrolled": true
   },
   "outputs": [
    {
     "name": "stderr",
     "output_type": "stream",
     "text": [
      "C:\\Users\\utilisateur\\anaconda3\\lib\\site-packages\\sklearn\\cluster\\_kmeans.py:1334: UserWarning: KMeans is known to have a memory leak on Windows with MKL, when there are less chunks than available threads. You can avoid it by setting the environment variable OMP_NUM_THREADS=1.\n",
      "  warnings.warn(\n"
     ]
    },
    {
     "data": {
      "image/png": "[encoded data removed]",
      "text/plain": [
       "<Figure size 432x288 with 1 Axes>"
      ]
     },
     "metadata": {},
     "output_type": "display_data"
    }
   ],
   "source": [
    "reduced_data = PCA(n_components=2).fit_transform(data)\n",
    "kmeans = KMeans(init=\"k-means++\", n_clusters=n_iris, n_init=4)\n",
    "kmeans.fit(reduced_data)\n",
    "\n",
    "# Step size of the mesh. Decrease to increase the quality of the VQ.\n",
    "h = 0.02  # point in the mesh [x_min, x_max]x[y_min, y_max].\n",
    "\n",
    "# Plot the decision boundary. For that, we will assign a color to each\n",
    "x_min, x_max = reduced_data[:, 0].min() - 1, reduced_data[:, 0].max() + 1\n",
    "y_min, y_max = reduced_data[:, 1].min() - 1, reduced_data[:, 1].max() + 1\n",
    "xx, yy = np.meshgrid(np.arange(x_min, x_max, h), np.arange(y_min, y_max, h))\n",
    "\n",
    "# Obtain labels for each point in mesh. Use last trained model.\n",
    "Z = kmeans.predict(np.c_[xx.ravel(), yy.ravel()])\n",
    "\n",
    "# Put the result into a color plot\n",
    "Z = Z.reshape(xx.shape)\n",
    "plt.figure(1)\n",
    "plt.clf()\n",
    "plt.imshow(\n",
    "    Z,\n",
    "    interpolation=\"nearest\",\n",
    "    extent=(xx.min(), xx.max(), yy.min(), yy.max()),\n",
    "    cmap=plt.cm.Paired,\n",
    "    aspect=\"auto\",\n",
    "    origin=\"lower\",\n",
    ")\n",
    "\n",
    "plt.plot(reduced_data[:, 0], reduced_data[:, 1], \"k.\", markersize=2)\n",
    "# Plot the centroids as a white X\n",
    "centroids = kmeans.cluster_centers_\n",
    "plt.scatter(\n",
    "    centroids[:, 0],\n",
    "    centroids[:, 1],\n",
    "    marker=\"x\",\n",
    "    s=169,\n",
    "    linewidths=3,\n",
    "    color=\"w\",\n",
    "    zorder=10,\n",
    ")\n",
    "plt.title(\n",
    "    \"K-means clustering on the digits dataset (PCA-reduced data)\\n\"\n",
    "    \"Centroids are marked with white cross\"\n",
    ")\n",
    "plt.xlim(x_min, x_max)\n",
    "plt.ylim(y_min, y_max)\n",
    "plt.xticks(())\n",
    "plt.yticks(())\n",
    "plt.show()"
   ]
  },
  {
   "cell_type": "markdown",
   "id": "acedcd78",
   "metadata": {},
   "source": [
    "<font color=\"green\">Ici, tu pourrais peut-être ajouter une ou deux phrases pour interpréter les résultats présentés sur le graphe, sinon on ne sait pas trop ce qu'on regarde.</font>"
   ]
  },
  {
   "cell_type": "markdown",
   "id": "d30b2823",
   "metadata": {},
   "source": [
    "#### Ceci conclut notre tutoriel, et sentez-vous libre de jouer avec les paramètres du modèle pour mieux le comprendre !"
   ]
  },
  {
   "cell_type": "markdown",
   "id": "5249f627",
   "metadata": {},
   "source": [
    "<font color=\"green\">Globalement je trouve que ce tutoriel gagnerait à être complété avec plus d'explications, là on ne comprend pas toujours ce que tu fais. Penser aussi à essayer d'enlever les warnings quand c'est possible. Ceci dit on voit que tu as quand même fait des efforts pour expliquer le contenu du code et le graphe obtenu au final est très beau 😮</font>"
   ]
  },
  {
   "cell_type": "code",
   "execution_count": null,
   "id": "3dc9f729",
   "metadata": {},
   "outputs": [],
   "source": []
  }
 ],
 "metadata": {
  "kernelspec": {
   "display_name": "Python 3 (ipykernel)",
   "language": "python",
   "name": "python3"
  },
  "language_info": {
   "codemirror_mode": {
    "name": "ipython",
    "version": 3
   },
   "file_extension": ".py",
   "mimetype": "text/x-python",
   "name": "python",
   "nbconvert_exporter": "python",
   "pygments_lexer": "ipython3",
   "version": "3.10.6"
  }
 },
 "nbformat": 4,
 "nbformat_minor": 5
}
