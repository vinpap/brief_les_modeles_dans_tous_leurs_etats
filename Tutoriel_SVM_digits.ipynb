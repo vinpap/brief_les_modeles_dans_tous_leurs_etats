{
 "cells": [
  {
   "cell_type": "markdown",
   "id": "c1cc2650",
   "metadata": {},
   "source": [
    "# Tutoriel d'exemple de résolution d'un problème de machine learning à l'aide des SVM\n",
    "\n"
   ]
  },
  {
   "cell_type": "markdown",
   "id": "eee2a9bb",
   "metadata": {},
   "source": [
    "## Problème à résoudre"
   ]
  },
  {
   "cell_type": "markdown",
   "id": "6f1caac8",
   "metadata": {},
   "source": [
    "Notre travail va consister à créer un algorithme qui identifie le chiffre inscrit à la main sur une image. Il s'agit donc d'un algorithme de **classification**, qui va assigner chaque image à une catégorie correspondant à un chiffre de 0 à 9.\n",
    "\n",
    "![Chiffres manuscrits](https://assets.digitalocean.com/articles/handwriting_tensorflow_python3/wBCHXId.png)\n",
    "\n"
   ]
  },
  {
   "cell_type": "markdown",
   "id": "c5e14dc2",
   "metadata": {},
   "source": [
    "## Techniques et outils utilisés"
   ]
  },
  {
   "cell_type": "markdown",
   "id": "feffece3",
   "metadata": {},
   "source": [
    "Pour résoudre ce problème, nous allons utiliser un modèle de **SVM** (Support Vector Machines) en **apprentissage supervisé**. Voici un aperçu de ces concepts :\n",
    "- L'apprentissage supervisé est une technique qui consiste à entraîner un modèle de prédiction en lui donnant un set de données. Dans notre cas, nous allons utiliser nos données pour apprendre à notre modèle à classer chaque image dans une catégorie qui correspond au chiffre écrit sur l'image.\n",
    "- Les SVM sont un ensemble de techniques qui visent à classer des données représentées dans un espace vectoriel (i.e. dans un espace qui peut comporter un nombre de dimensions très élevé).\n",
    "\n",
    "Nous allons utiliser la librairie scikit-learn pour réaliser ce projet."
   ]
  },
  {
   "cell_type": "markdown",
   "id": "52b7d36e",
   "metadata": {},
   "source": [
    "## Code"
   ]
  },
  {
   "cell_type": "markdown",
   "id": "9e120f13",
   "metadata": {},
   "source": [
    "### Importation des librairies"
   ]
  },
  {
   "cell_type": "code",
   "execution_count": 1,
   "id": "f2c6bfc9",
   "metadata": {},
   "outputs": [],
   "source": [
    "import matplotlib.pyplot as plt\n",
    "from sklearn import svm, datasets\n",
    "from sklearn.model_selection import train_test_split\n",
    "from sklearn.metrics import classification_report, ConfusionMatrixDisplay"
   ]
  },
  {
   "cell_type": "markdown",
   "id": "1e94ee33",
   "metadata": {},
   "source": [
    "### Importation du dataset"
   ]
  },
  {
   "cell_type": "markdown",
   "id": "4c24bf3b",
   "metadata": {},
   "source": [
    "Commençons par importer et explorer nos données :"
   ]
  },
  {
   "cell_type": "code",
   "execution_count": 2,
   "id": "059b606f",
   "metadata": {},
   "outputs": [
    {
     "name": "stdout",
     "output_type": "stream",
     "text": [
      ".. _digits_dataset:\n",
      "\n",
      "Optical recognition of handwritten digits dataset\n",
      "--------------------------------------------------\n",
      "\n",
      "**Data Set Characteristics:**\n",
      "\n",
      "    :Number of Instances: 1797\n",
      "    :Number of Attributes: 64\n",
      "    :Attribute Information: 8x8 image of integer pixels in the range 0..16.\n",
      "    :Missing Attribute Values: None\n",
      "    :Creator: E. Alpaydin (alpaydin '@' boun.edu.tr)\n",
      "    :Date: July; 1998\n",
      "\n",
      "This is a copy of the test set of the UCI ML hand-written digits datasets\n",
      "https://archive.ics.uci.edu/ml/datasets/Optical+Recognition+of+Handwritten+Digits\n",
      "\n",
      "The data set contains images of hand-written digits: 10 classes where\n",
      "each class refers to a digit.\n",
      "\n",
      "Preprocessing programs made available by NIST were used to extract\n",
      "normalized bitmaps of handwritten digits from a preprinted form. From a\n",
      "total of 43 people, 30 contributed to the training set and different 13\n",
      "to the test set. 32x32 bitmaps are divided into nonoverlapping blocks of\n",
      "4x4 and the number of on pixels are counted in each block. This generates\n",
      "an input matrix of 8x8 where each element is an integer in the range\n",
      "0..16. This reduces dimensionality and gives invariance to small\n",
      "distortions.\n",
      "\n",
      "For info on NIST preprocessing routines, see M. D. Garris, J. L. Blue, G.\n",
      "T. Candela, D. L. Dimmick, J. Geist, P. J. Grother, S. A. Janet, and C.\n",
      "L. Wilson, NIST Form-Based Handprint Recognition System, NISTIR 5469,\n",
      "1994.\n",
      "\n",
      ".. topic:: References\n",
      "\n",
      "  - C. Kaynak (1995) Methods of Combining Multiple Classifiers and Their\n",
      "    Applications to Handwritten Digit Recognition, MSc Thesis, Institute of\n",
      "    Graduate Studies in Science and Engineering, Bogazici University.\n",
      "  - E. Alpaydin, C. Kaynak (1998) Cascading Classifiers, Kybernetika.\n",
      "  - Ken Tang and Ponnuthurai N. Suganthan and Xi Yao and A. Kai Qin.\n",
      "    Linear dimensionalityreduction using relevance weighted LDA. School of\n",
      "    Electrical and Electronic Engineering Nanyang Technological University.\n",
      "    2005.\n",
      "  - Claudio Gentile. A New Approximate Maximal Margin Classification\n",
      "    Algorithm. NIPS. 2000.\n",
      "\n"
     ]
    }
   ],
   "source": [
    "digits = datasets.load_digits()\n",
    "print(digits.DESCR)"
   ]
  },
  {
   "cell_type": "markdown",
   "id": "ef52872c",
   "metadata": {},
   "source": [
    "On voit grâce à la description détaillée qu'il s'agit d'un dataset qui cherche à faire de la reconnaissance optique de chiffres écrits à la main (grâce au titre), puis qu'il contient 1797 exemples de chiffres, avec 64 attributes par chiffre. \n",
    "\n",
    "Il se trouve que l'on comprend ensuite que ces attributes sont directement le nombre de pixels que contient chacune des 1797 images disponibles, chacune représentant un nombre entre 0 et 9 (c'est la partie attribute information qui nous renseigne là-dessus). Nous sommes donc en possession de 1797 images de 8x8 pixels qui représentent des chiffres de 0 à 9.\n",
    "\n",
    "Pour s'en assurer nous représentons quelques-uns de ces chiffres :"
   ]
  },
  {
   "cell_type": "code",
   "execution_count": 3,
   "id": "7edff1ea",
   "metadata": {},
   "outputs": [
    {
     "data": {
      "image/png": "[encoded data removed]",
      "text/plain": [
       "<Figure size 720x216 with 4 Axes>"
      ]
     },
     "metadata": {
      "needs_background": "light"
     },
     "output_type": "display_data"
    }
   ],
   "source": [
    "# On affiche quelques exemples du dataset pour voir à quoi ils ressemblent :\n",
    "fig, axes = plt.subplots(nrows=1, ncols=4, figsize=(10, 3))\n",
    "for ax, image, label in zip(axes, digits.images, digits.target):\n",
    "    ax.set_axis_off()\n",
    "    ax.imshow(image, cmap=plt.cm.gray_r, interpolation=\"nearest\")\n",
    "    ax.set_title(\"Training: %i\" % label)"
   ]
  },
  {
   "cell_type": "markdown",
   "id": "5914ec83",
   "metadata": {},
   "source": [
    "### Phase d'apprentissage du modèle"
   ]
  },
  {
   "cell_type": "markdown",
   "id": "35b85c96",
   "metadata": {},
   "source": [
    "La première étape lors de l'utilisation d'une méthode d'apprentissage supervisée, c'est l'apprentissage. Dans cette étape, nous allons construire notre modèle en lui donnant un certain nombre d'exemples depuis notre base de données. La règle de base lors de cette étape est de séparer la base de données en deux : une partie pour l'apprentissage et une partie pour le test. Ceci afin de ne pas montrer lors de la phase de test des exemples de chiffres qui auraient servis lors de la phase d'apprentissage, car alors le test serait biaisé.\n",
    "\n",
    "Cependant, il y a une subtilité dans notre cas précis : pour pouvoir apprendre, un modèle a besoin de **features**, autrement dit de nombres, en entrée. En effet un ordinateur ne comprend que les nombres, et il serait bien incapable de travailler avec une image !\n",
    "\n",
    "En traitement d'images, la solution la plus simple pour produire ces features consiste à vectoriser l'image, c'est-à-dire passer l'image 8x8 sous forme d'un vecteur de taille 64, dont chaque ligne représente la valeur d'un pixel en niveau de gris. C'est ce que nous faisons juste en-dessous :"
   ]
  },
  {
   "cell_type": "code",
   "execution_count": 4,
   "id": "9297e9a1",
   "metadata": {},
   "outputs": [
    {
     "name": "stdout",
     "output_type": "stream",
     "text": [
      "Taille avant vectorisation : (1797, 8, 8)\n",
      "Taille après vectorisation : (1797, 64)\n"
     ]
    }
   ],
   "source": [
    "# On vectorise toutes les images pour transformer les \"matrices\" \n",
    "# qui représentent les images en vecteurs colonnes\n",
    "n_samples = len(digits.images)\n",
    "data = digits.images.reshape((n_samples, -1))\n",
    "\n",
    "# POn affiche les données après vectorisation pour bien comprendre avec quoi on travaille\n",
    "print(\"Taille avant vectorisation : {}\\nTaille après vectorisation : {}\".format(digits.images.shape, data.shape))"
   ]
  },
  {
   "cell_type": "markdown",
   "id": "be18a830",
   "metadata": {},
   "source": [
    "Puis, nous divisons notre jeu de données d'entrée en deux sous-ensembles, afin de constituer nos jeux de données d'apprentissage (constitué ici de 70 % des données de départ), et de test (30 % des données de départ)."
   ]
  },
  {
   "cell_type": "code",
   "execution_count": 5,
   "id": "db880d93",
   "metadata": {},
   "outputs": [],
   "source": [
    "# On divise les données en deux sets (70 % pour l'entraînement, 30% pour le test)\n",
    "x_train, x_test, y_train, y_test = train_test_split(\n",
    "    data, digits.target, test_size=0.3, shuffle=False\n",
    ")"
   ]
  },
  {
   "cell_type": "markdown",
   "id": "64d6ee9d",
   "metadata": {},
   "source": [
    "Puis nous mettons en place notre modèle, l'entraînons et visualisons les résultats de l'entraînement :"
   ]
  },
  {
   "cell_type": "code",
   "execution_count": 6,
   "id": "d2946962",
   "metadata": {},
   "outputs": [],
   "source": [
    "C = 1.0  # Paramètre de régularisation du SVM\n",
    "# Ici, on crée un SVM linéaire, soit le type de SVM le plus simple qui existe\n",
    "model = svm.LinearSVC(C=C, max_iter=1000000)\n",
    "\n",
    "# Entraînement du modèle\n",
    "model = model.fit(x_train, y_train)\n",
    "\n",
    "\n",
    "y_pred = model.predict(x_test)"
   ]
  },
  {
   "cell_type": "markdown",
   "id": "5793a510",
   "metadata": {},
   "source": [
    "Nous pouvons aussi regarder quelques résultats de prédiction pour voir si le modèle semble fonctionner :"
   ]
  },
  {
   "cell_type": "code",
   "execution_count": 7,
   "id": "a5722980",
   "metadata": {},
   "outputs": [
    {
     "data": {
      "image/png": "[encoded data removed]",
      "text/plain": [
       "<Figure size 720x216 with 4 Axes>"
      ]
     },
     "metadata": {
      "needs_background": "light"
     },
     "output_type": "display_data"
    }
   ],
   "source": [
    "# Affichage de plusieurs prédictions\n",
    "fig, axes = plt.subplots(nrows=1, ncols=4, figsize=(10, 3))\n",
    "for ax, image, prediction in zip(axes, x_test, y_pred):\n",
    "    ax.set_axis_off()\n",
    "    image = image.reshape(8, 8)\n",
    "    ax.imshow(image, cmap=plt.cm.gray_r, interpolation=\"nearest\")\n",
    "    ax.set_title(f\"Prediction: {prediction}\")"
   ]
  },
  {
   "cell_type": "markdown",
   "id": "fe98235d",
   "metadata": {},
   "source": [
    "Tout semble bien fonctionner, mais il est important de faire d'autres manipulations pour être certain que le modèle est efficace."
   ]
  },
  {
   "cell_type": "markdown",
   "id": "52ee0690",
   "metadata": {},
   "source": [
    "### Vérification des résultats pour valider le modèle"
   ]
  },
  {
   "cell_type": "markdown",
   "id": "081b8fbb",
   "metadata": {},
   "source": [
    "Une étape essentielle après l'apprentissage et le test d'un modèle de machine learning est l'analyse de ses performances afin de valider s'il fonctionne ou non. Pour ce faire, nous utilisons différentes métriques, dont nous vous invitons à aller chercher les définitions en ligne : la précision, le recall, et le f1-score.\n",
    "Ces métriques doivent toutes tendre vers 1 lorsque le modèle fonctionne bien."
   ]
  },
  {
   "cell_type": "code",
   "execution_count": 8,
   "id": "ee174e85",
   "metadata": {},
   "outputs": [
    {
     "name": "stdout",
     "output_type": "stream",
     "text": [
      "Classification report for classifier LinearSVC(max_iter=1000000):\n",
      "              precision    recall  f1-score   support\n",
      "\n",
      "           0       0.91      0.96      0.94        53\n",
      "           1       0.72      0.83      0.77        53\n",
      "           2       0.92      0.89      0.90        53\n",
      "           3       0.93      0.79      0.86        53\n",
      "           4       0.96      0.88      0.92        57\n",
      "           5       0.98      0.93      0.95        56\n",
      "           6       0.93      0.98      0.95        54\n",
      "           7       0.94      0.87      0.90        54\n",
      "           8       0.77      0.85      0.81        52\n",
      "           9       0.83      0.87      0.85        55\n",
      "\n",
      "    accuracy                           0.89       540\n",
      "   macro avg       0.89      0.88      0.89       540\n",
      "weighted avg       0.89      0.89      0.89       540\n",
      "\n",
      "\n"
     ]
    }
   ],
   "source": [
    "# On affiche les données de précision en utilisant le set de test\n",
    "print(\n",
    "    f\"Classification report for classifier {model}:\\n\"\n",
    "    f\"{classification_report(y_test, y_pred)}\\n\"\n",
    ")"
   ]
  },
  {
   "cell_type": "markdown",
   "id": "9e1b68d7",
   "metadata": {},
   "source": [
    "On constate que les résultats sont globalement corrects, mais que les classes 1 et 8, par exemple, souffrent de quelques difficultés à être correctement classifiée.\n",
    "\n",
    "Il est intéressant de voir que le nombre d'images testées par classe est à peu près égal, ce qui assure une bonne représentativité de chaque classe dans les résultats (on parle de problème équilibré). Il est important de s'assurer de cet équilibre dès la phase d'apprentissage pour être certain de ne pas biaiser l'apprentissage de certaines classes (une classe sous-représentée pourrait être très peu prédite en pratique). On retrouve bien ici que 540 images en test représentent eniron 30 % de 1764 images du jeu de données complet, ce qui est cohérent.\n",
    "\n",
    "Pour analyser plus finement les résultats, on représente enuite la matrice de confusion, qui montre pour chaque classe le nombre de bonnes et mauvaises classification, et ce de manière croisée pour savoir dans quelles classes ont été prédites les erreurs de classification :"
   ]
  },
  {
   "cell_type": "code",
   "execution_count": 9,
   "id": "55a2792d",
   "metadata": {},
   "outputs": [
    {
     "name": "stdout",
     "output_type": "stream",
     "text": [
      "Confusion matrix:\n",
      "[[51  0  0  0  1  0  1  0  0  0]\n",
      " [ 0 44  1  2  0  0  0  0  2  4]\n",
      " [ 3  0 47  0  0  0  0  0  0  3]\n",
      " [ 0  1  0 42  0  1  0  2  7  0]\n",
      " [ 1  3  0  0 50  0  2  0  0  1]\n",
      " [ 0  2  1  0  0 52  1  0  0  0]\n",
      " [ 0  0  1  0  0  0 53  0  0  0]\n",
      " [ 0  1  0  0  0  0  0 47  4  2]\n",
      " [ 0  6  1  0  1  0  0  0 44  0]\n",
      " [ 1  4  0  1  0  0  0  1  0 48]]\n"
     ]
    },
    {
     "data": {
      "image/png": "[encoded data removed]",
      "text/plain": [
       "<Figure size 432x288 with 2 Axes>"
      ]
     },
     "metadata": {
      "needs_background": "light"
     },
     "output_type": "display_data"
    }
   ],
   "source": [
    "# Affichage de la matrice de confusion\n",
    "disp = ConfusionMatrixDisplay.from_predictions(y_test, y_pred)\n",
    "disp.figure_.suptitle(\"Confusion Matrix\")\n",
    "print(f\"Confusion matrix:\\n{disp.confusion_matrix}\")"
   ]
  },
  {
   "cell_type": "markdown",
   "id": "468732ad",
   "metadata": {},
   "source": [
    "On remarque alors que les erreurs observés au global pour la classe 3 se concentrent dans la classe 8, et que celles observées pour la classe 8 se concentrent quant à elles dans la classe 1. Une analyse plus approfondie peut alors être menée pour déterminer pourquoi ces erreurs se font spécifiquement sur ces classes-là."
   ]
  },
  {
   "cell_type": "markdown",
   "id": "680854d6",
   "metadata": {},
   "source": [
    "## Conclusion"
   ]
  },
  {
   "cell_type": "markdown",
   "id": "f4ca7dcf",
   "metadata": {},
   "source": [
    "Ce tutoriel est maintenant terminé ! Pour aller plus loin, vous pouvez si vous le souhaitez expérimenter avec les modèles de SVM plus complexes proposés par scikit-learn ou jouer avec les paramètres pour mieux comprendre comment ils influencent le modèle."
   ]
  },
  {
   "cell_type": "code",
   "execution_count": null,
   "id": "bdb3abc0",
   "metadata": {},
   "outputs": [],
   "source": []
  }
 ],
 "metadata": {
  "kernelspec": {
   "display_name": "Python 3 (ipykernel)",
   "language": "python",
   "name": "python3"
  },
  "language_info": {
   "codemirror_mode": {
    "name": "ipython",
    "version": 3
   },
   "file_extension": ".py",
   "mimetype": "text/x-python",
   "name": "python",
   "nbconvert_exporter": "python",
   "pygments_lexer": "ipython3",
   "version": "3.10.6"
  }
 },
 "nbformat": 4,
 "nbformat_minor": 5
}
