{
 "cells": [
  {
   "cell_type": "markdown",
   "id": "32e5142c",
   "metadata": {},
   "source": [
    "## Tutoriel d'exemple de résolution d'un problème de machine learning à l'aide du clustering par k-means"
   ]
  },
  {
   "cell_type": "markdown",
   "id": "8d0d3d83",
   "metadata": {},
   "source": [
    "## Problème à résoudre"
   ]
  },
  {
   "cell_type": "markdown",
   "id": "deb0b823",
   "metadata": {},
   "source": [
    "Dans ce tutoriel, nous allons classifier des iris en trois catégories en se basant sur quatre données : la longueur et la largeur de leurs sépales, et la longueur et la largeur de leurs pétales. Il s'agit donc d'un problème de classification.\n",
    "\n",
    "**Il est important de noter ici que l'on ne connaît pas à l'avance les différentes catégories**. Pour réaliser ce travail, nous utiliserons [ce set de données](https://scikit-learn.org/stable/datasets/toy_dataset.html#iris-dataset)."
   ]
  },
  {
   "cell_type": "markdown",
   "id": "08c5716a",
   "metadata": {},
   "source": [
    "## Techniques et outils utilisés"
   ]
  },
  {
   "cell_type": "markdown",
   "id": "9e755d72",
   "metadata": {},
   "source": [
    "Pour résoudre ce problème, nous allons faire appel à une technique **d'apprentissage non supervisé** basée sur la méthode des **k-means**. Voici une description de ces termes :\n",
    "- L'apprentissage non supervisé est une technique qui consiste à entraîner un modèle de prédiction en lui donnant un set de données. À la différence de l'apprentissage supervisé, l'apprentissage non supervisé ne nécessite pas de donner au modèle les noms des labels attendus : c'est le modèle qui va automatiquement dégager plusieurs classes à partir des données dont il dispose.\n",
    "- La méthode du clustering en k-means est une technique de machine learning où l'algorithme va identifier des groupes, ou **clusters**, dans les données placées dans un espace vectoriel. Par la suite, le modèle réalise des prédictions en classifiant les données dans le cluster qui leur est le plus proche.\n",
    "\n",
    "Nous allons utiliser la librairie scikit-learn pour réaliser ce projet."
   ]
  },
  {
   "cell_type": "markdown",
   "id": "bde3fa1e",
   "metadata": {},
   "source": [
    "## Code"
   ]
  },
  {
   "cell_type": "markdown",
   "id": "202a8211",
   "metadata": {},
   "source": [
    "### Importation des librairies"
   ]
  },
  {
   "cell_type": "code",
   "execution_count": 1,
   "id": "ef478c39",
   "metadata": {},
   "outputs": [],
   "source": [
    "import matplotlib.pyplot as plt\n",
    "import numpy as np\n",
    "from sklearn.cluster import KMeans\n",
    "from sklearn.datasets import load_iris\n",
    "from sklearn.model_selection import train_test_split\n",
    "from sklearn.decomposition import PCA\n",
    "from sklearn.metrics import ConfusionMatrixDisplay, confusion_matrix"
   ]
  },
  {
   "cell_type": "markdown",
   "id": "bcde7d46",
   "metadata": {},
   "source": [
    "### Importation du dataset"
   ]
  },
  {
   "cell_type": "markdown",
   "id": "6db83c0c",
   "metadata": {},
   "source": [
    "Commençons par importer et explorer le dataset :"
   ]
  },
  {
   "cell_type": "code",
   "execution_count": 2,
   "id": "dc5b15fd",
   "metadata": {},
   "outputs": [
    {
     "name": "stdout",
     "output_type": "stream",
     "text": [
      ".. _iris_dataset:\n",
      "\n",
      "Iris plants dataset\n",
      "--------------------\n",
      "\n",
      "**Data Set Characteristics:**\n",
      "\n",
      "    :Number of Instances: 150 (50 in each of three classes)\n",
      "    :Number of Attributes: 4 numeric, predictive attributes and the class\n",
      "    :Attribute Information:\n",
      "        - sepal length in cm\n",
      "        - sepal width in cm\n",
      "        - petal length in cm\n",
      "        - petal width in cm\n",
      "        - class:\n",
      "                - Iris-Setosa\n",
      "                - Iris-Versicolour\n",
      "                - Iris-Virginica\n",
      "                \n",
      "    :Summary Statistics:\n",
      "\n",
      "    ============== ==== ==== ======= ===== ====================\n",
      "                    Min  Max   Mean    SD   Class Correlation\n",
      "    ============== ==== ==== ======= ===== ====================\n",
      "    sepal length:   4.3  7.9   5.84   0.83    0.7826\n",
      "    sepal width:    2.0  4.4   3.05   0.43   -0.4194\n",
      "    petal length:   1.0  6.9   3.76   1.76    0.9490  (high!)\n",
      "    petal width:    0.1  2.5   1.20   0.76    0.9565  (high!)\n",
      "    ============== ==== ==== ======= ===== ====================\n",
      "\n",
      "    :Missing Attribute Values: None\n",
      "    :Class Distribution: 33.3% for each of 3 classes.\n",
      "    :Creator: R.A. Fisher\n",
      "    :Donor: Michael Marshall (MARSHALL%PLU@io.arc.nasa.gov)\n",
      "    :Date: July, 1988\n",
      "\n",
      "The famous Iris database, first used by Sir R.A. Fisher. The dataset is taken\n",
      "from Fisher's paper. Note that it's the same as in R, but not as in the UCI\n",
      "Machine Learning Repository, which has two wrong data points.\n",
      "\n",
      "This is perhaps the best known database to be found in the\n",
      "pattern recognition literature.  Fisher's paper is a classic in the field and\n",
      "is referenced frequently to this day.  (See Duda & Hart, for example.)  The\n",
      "data set contains 3 classes of 50 instances each, where each class refers to a\n",
      "type of iris plant.  One class is linearly separable from the other 2; the\n",
      "latter are NOT linearly separable from each other.\n",
      "\n",
      ".. topic:: References\n",
      "\n",
      "   - Fisher, R.A. \"The use of multiple measurements in taxonomic problems\"\n",
      "     Annual Eugenics, 7, Part II, 179-188 (1936); also in \"Contributions to\n",
      "     Mathematical Statistics\" (John Wiley, NY, 1950).\n",
      "   - Duda, R.O., & Hart, P.E. (1973) Pattern Classification and Scene Analysis.\n",
      "     (Q327.D83) John Wiley & Sons.  ISBN 0-471-22361-1.  See page 218.\n",
      "   - Dasarathy, B.V. (1980) \"Nosing Around the Neighborhood: A New System\n",
      "     Structure and Classification Rule for Recognition in Partially Exposed\n",
      "     Environments\".  IEEE Transactions on Pattern Analysis and Machine\n",
      "     Intelligence, Vol. PAMI-2, No. 1, 67-71.\n",
      "   - Gates, G.W. (1972) \"The Reduced Nearest Neighbor Rule\".  IEEE Transactions\n",
      "     on Information Theory, May 1972, 431-433.\n",
      "   - See also: 1988 MLC Proceedings, 54-64.  Cheeseman et al\"s AUTOCLASS II\n",
      "     conceptual clustering system finds 3 classes in the data.\n",
      "   - Many, many more ...\n"
     ]
    }
   ],
   "source": [
    "iris_data = load_iris(as_frame=True)\n",
    "print(iris_data.DESCR)"
   ]
  },
  {
   "cell_type": "markdown",
   "id": "4f02cec6",
   "metadata": {},
   "source": [
    "La description détaillée nous indique que ce dataset contient les longueurs et largeurs des pétales et sépales de 150 iris. Ces 1560 iris sont eux-mêmes séparés en trois types. La description de scikit-learn nous donne aussi des information intéressantes concernant la corrélation entre ces données et le type de la fleur : alors que la longueur et la largeur des pétales semblent être fortement liées au type de la fleur, la longueur et la largeur des sépales ne sont que faiblement corrélées au type de la fleur. Cet élément aura son importance plus loin dans ce tutoriel.\n",
    "\n",
    "Affichons un échantillon de nos données pour vérifier que celles-ci ressemblent bien à ce que l'on attend :"
   ]
  },
  {
   "cell_type": "code",
   "execution_count": 3,
   "id": "f00e898b",
   "metadata": {},
   "outputs": [
    {
     "name": "stdout",
     "output_type": "stream",
     "text": [
      "     sepal length (cm)  sepal width (cm)  petal length (cm)  petal width (cm)  \\\n",
      "0                  5.1               3.5                1.4               0.2   \n",
      "1                  4.9               3.0                1.4               0.2   \n",
      "2                  4.7               3.2                1.3               0.2   \n",
      "3                  4.6               3.1                1.5               0.2   \n",
      "4                  5.0               3.6                1.4               0.2   \n",
      "..                 ...               ...                ...               ...   \n",
      "145                6.7               3.0                5.2               2.3   \n",
      "146                6.3               2.5                5.0               1.9   \n",
      "147                6.5               3.0                5.2               2.0   \n",
      "148                6.2               3.4                5.4               2.3   \n",
      "149                5.9               3.0                5.1               1.8   \n",
      "\n",
      "     target  \n",
      "0         0  \n",
      "1         0  \n",
      "2         0  \n",
      "3         0  \n",
      "4         0  \n",
      "..      ...  \n",
      "145       2  \n",
      "146       2  \n",
      "147       2  \n",
      "148       2  \n",
      "149       2  \n",
      "\n",
      "[150 rows x 5 columns]\n"
     ]
    }
   ],
   "source": [
    "print(iris_data.frame)"
   ]
  },
  {
   "cell_type": "markdown",
   "id": "090d8358",
   "metadata": {},
   "source": [
    "### Phase d'apprentissage du modèle"
   ]
  },
  {
   "cell_type": "markdown",
   "id": "975702c9",
   "metadata": {},
   "source": [
    "La première étape dans la construction de notre modèle consiste à entraîner ce dernier. Dans cette étape, nous allons construire notre modèle en lui donnant un certain nombre d'exemples depuis notre base de données. La règle de base lors de cette étape est de séparer la base de données en deux : une partie pour l'apprentissage et une partie pour le test. Ceci afin de ne pas montrer lors de la phase de test des exemples de chiffres qui auraient servis lors de la phase d'apprentissage, car alors le test serait biaisé.\n",
    "\n",
    "Ici, nous allons réaliser deux modèles distincts : le premier sera entraîné avec toutes les colonnes du dataset (longueur/largeur des sépales et des pédales), tandis que le second n'utilisera que les informations concernant les pétales. On pourra ensuite comparer la précision des deux modèles pour déterminer si les dimensions des sépales sont une information importante pour notre modèle de prédiction, ou si elles peuvent être omises."
   ]
  },
  {
   "cell_type": "code",
   "execution_count": 4,
   "id": "5468fbdb",
   "metadata": {},
   "outputs": [],
   "source": [
    "# Séparation en set de données d'entraînement et de test (70 % train, 30 % test)\n",
    "iris_df = iris_data.frame\n",
    "\n",
    "train, test = train_test_split(iris_df, test_size=0.3)\n",
    "\n",
    "# Sets de données avec toutes les colonnes\n",
    "\n",
    "x_train = train.drop(columns=[\"target\"])\n",
    "x_test = test.drop(columns=[\"target\"])\n",
    "y_test = test[\"target\"]\n",
    "\n",
    "# Sets de données uniquement avec les colonnes qui concernent les pétales\n",
    "x_train_2 = train.drop(columns=[\"target\", \"sepal length (cm)\", \"sepal width (cm)\"])\n",
    "x_test_2 = test.drop(columns=[\"target\", \"sepal length (cm)\", \"sepal width (cm)\"])\n",
    "y_test_2 = test[\"target\"]     "
   ]
  },
  {
   "cell_type": "markdown",
   "id": "e14537ef",
   "metadata": {},
   "source": [
    "Nous pouvons ensuite créer nos modèles et les entraîner :"
   ]
  },
  {
   "cell_type": "code",
   "execution_count": 5,
   "id": "d54f6bf1",
   "metadata": {},
   "outputs": [],
   "source": [
    "# Entraînement du modèle avec toutes les données\n",
    "km = KMeans(\n",
    "    n_clusters=3, init='random',\n",
    "    n_init=10, max_iter=300, \n",
    "    tol=1e-04, random_state=0\n",
    ")\n",
    "km_2 = KMeans(\n",
    "    n_clusters=3, init='random',\n",
    "    n_init=10, max_iter=300, \n",
    "    tol=1e-04, random_state=0\n",
    ")\n",
    "# Remarquez que contrairement aux modèles en apprentissage supervisé, le K-means n'utilise pas\n",
    "# de valeurs target pour l'entraînement\n",
    "y_km = km.fit_predict(x_train)\n",
    "\n",
    "# Entraînement du modèle uniquement avec les données concernant les pétales\n",
    "y_km_2 = km_2.fit_predict(x_train_2)\n"
   ]
  },
  {
   "cell_type": "markdown",
   "id": "dd842d43",
   "metadata": {},
   "source": [
    "Maintenant que nous avons entraîné nos deux modèles, commençons par visualiser les résultats. Dans la mesure où nos modèles utilisent en entrée des données qui sont parfois exprimées en plus de deux dimensions, il nous est difficile, voire impossible de visualiser les clusters directement. À la place, nous allons visualiser les résultats dans des matrices de confusion :"
   ]
  },
  {
   "cell_type": "code",
   "execution_count": 6,
   "id": "2d99c674",
   "metadata": {},
   "outputs": [
    {
     "name": "stdout",
     "output_type": "stream",
     "text": [
      "Correspondances entre la colonne 'True label' et les types d'iris :\n",
      "O - Iris-Setosa\n",
      "1 - Iris-Versicolour\n",
      "2 - Iris-Virginica\n"
     ]
    },
    {
     "data": {
      "text/plain": [
       "Text(0.5, 1.0, 'Matrice de confusion pour le deuxième modèle (utilisation des dimensions des pétales uniquement)')"
      ]
     },
     "execution_count": 6,
     "metadata": {},
     "output_type": "execute_result"
    },
    {
     "data": {
      "image/png": "[encoded data removed]",
      "text/plain": [
       "<Figure size 432x288 with 2 Axes>"
      ]
     },
     "metadata": {
      "needs_background": "light"
     },
     "output_type": "display_data"
    },
    {
     "data": {
      "image/png": "[encoded data removed]",
      "text/plain": [
       "<Figure size 432x288 with 2 Axes>"
      ]
     },
     "metadata": {
      "needs_background": "light"
     },
     "output_type": "display_data"
    }
   ],
   "source": [
    "print(\"Correspondances entre la colonne 'True label' et les types d'iris :\")\n",
    "print(\"O - Iris-Setosa\")\n",
    "print(\"1 - Iris-Versicolour\")\n",
    "print(\"2 - Iris-Virginica\")\n",
    "\n",
    "# Affichage de la matrice de confusion pour le premier modèle (utilisation des 4 colonnes du dataset)\n",
    "y_pred = km.predict(x_test)\n",
    "disp = ConfusionMatrixDisplay.from_predictions(y_test, y_pred)\n",
    "plt.title(\"Matrice de confusion pour le premier modèle (utilisation de toutes les données)\")\n",
    "\n",
    "\n",
    "# Affichage de la matrice de confusion pour le deuxième modèle (utilisation des dimensions des pétales uniquement)\n",
    "y_pred_2 = km_2.predict(x_test_2)\n",
    "disp = ConfusionMatrixDisplay.from_predictions(y_test_2, y_pred_2)\n",
    "plt.title(\"Matrice de confusion pour le deuxième modèle (utilisation des dimensions des pétales uniquement)\")"
   ]
  },
  {
   "cell_type": "markdown",
   "id": "c7090c3a",
   "metadata": {},
   "source": [
    "**Comment lire cette matrice de confusion ?** L'axe des ordonnées présente les catégories de fleurs données dans la colonne 'target' de nos données. L'axe des abscisses montre quant à lui les index des catégories délimitées par l'algorithme K-means.\n",
    "\n",
    "Il faut ensuite observer les cases de la table. Le nombre 12 inscrit à l'intersection de la première ligne et de la première colonne, par exemple, indique que parmi les données du dataset labellisées comme étant des 'iris-setosa', 12 ont été classées par l'algorithme dans la catégorie 0."
   ]
  },
  {
   "cell_type": "markdown",
   "id": "e8247c77",
   "metadata": {},
   "source": [
    "En étudiant ces matrices de confusion, nous pouvons faire trois observations intéressantes :\n",
    "- On observe que l'algorithme a globalement bien réussi à identifier trois clusters dans les données\n",
    "- Que l'on utilise toutes les données fournies ou seulement celles concernant les pétales, le type de fleur que l'algorithme a le plus de mal à identifier est la Iris-Virginica (catégorie 2 dans 'True Label')\n",
    "- Tenir compte uniquement les dimensions des pétales semble mener à des résultats plus précis que si l'on utilisait toutes les données à disposition."
   ]
  },
  {
   "cell_type": "markdown",
   "id": "d0383b5a",
   "metadata": {},
   "source": [
    "## Conclusion"
   ]
  },
  {
   "cell_type": "code",
   "execution_count": null,
   "id": "da3fbe75",
   "metadata": {},
   "outputs": [],
   "source": []
  }
 ],
 "metadata": {
  "kernelspec": {
   "display_name": "Python 3 (ipykernel)",
   "language": "python",
   "name": "python3"
  },
  "language_info": {
   "codemirror_mode": {
    "name": "ipython",
    "version": 3
   },
   "file_extension": ".py",
   "mimetype": "text/x-python",
   "name": "python",
   "nbconvert_exporter": "python",
   "pygments_lexer": "ipython3",
   "version": "3.10.6"
  }
 },
 "nbformat": 4,
 "nbformat_minor": 5
}
